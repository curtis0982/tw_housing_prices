{
 "cells": [
  {
   "cell_type": "code",
   "execution_count": 1,
   "metadata": {},
   "outputs": [],
   "source": [
    "#爬取了實價登入所有歷史數據\n",
    "import requests\n",
    "import os\n",
    "import zipfile\n",
    "import time"
   ]
  },
  {
   "cell_type": "code",
   "execution_count": 2,
   "metadata": {},
   "outputs": [
    {
     "name": "stdout",
     "output_type": "stream",
     "text": [
      "102 1\n",
      "102 2\n",
      "102 3\n",
      "102 4\n",
      "103 1\n",
      "103 2\n",
      "103 3\n",
      "103 4\n",
      "104 1\n",
      "104 2\n",
      "104 3\n",
      "104 4\n",
      "105 1\n",
      "105 2\n",
      "105 3\n",
      "105 4\n",
      "106 1\n",
      "106 2\n",
      "106 3\n",
      "106 4\n",
      "107 1\n",
      "107 2\n",
      "107 3\n",
      "107 4\n"
     ]
    }
   ],
   "source": [
    "#此段下載資料，如果沒有要下載勿重複使用\n",
    "\"\"\"\n",
    "def real_estate_crawler(year, season):\n",
    "  if year > 1000:\n",
    "    year -= 1911\n",
    "\n",
    "  # download real estate zip file\n",
    "  res = requests.get(\"https://plvr.land.moi.gov.tw//DownloadSeason?season=\"+str(year)+\"S\"+str(season)+\"&type=zip&fileName=lvr_landcsv.zip\")\n",
    "\n",
    "  # save content to file\n",
    "  fname = str(year)+str(season)+'.zip'\n",
    "  open(fname, 'wb').write(res.content)\n",
    "\n",
    "  # make additional folder for files to extract\n",
    "  folder = 'real_estate' + str(year) + str(season)\n",
    "  if not os.path.isdir(folder):\n",
    "    os.mkdir(folder)\n",
    "\n",
    "  # extract files to the folder\n",
    "  with zipfile.ZipFile(fname, 'r') as zip_ref:\n",
    "    zip_ref.extractall(folder)\n",
    "\n",
    "  time.sleep(10)\n",
    "\n",
    "real_estate_crawler(101, 3)\n",
    "real_estate_crawler(101, 4)\n",
    "\n",
    "for year in range(102, 108):\n",
    "  for season in range(1,5):\n",
    "    print(year, season)\n",
    "    real_estate_crawler(year, season)\n",
    "\n",
    "real_estate_crawler(108, 1)\n",
    "real_estate_crawler(108, 2)\n",
    "\"\"\""
   ]
  },
  {
   "cell_type": "code",
   "execution_count": 3,
   "metadata": {},
   "outputs": [
    {
     "data": {
      "text/plain": [
       "'x_lvr_land_a：房屋買賣交易\\nx_lvr_land_b：新成屋交易\\nx_lvr_land_c：租房交易\\n'"
      ]
     },
     "execution_count": 3,
     "metadata": {},
     "output_type": "execute_result"
    }
   ],
   "source": [
    "\"\"\"x_lvr_land_a：房屋買賣交易\n",
    "x_lvr_land_b：新成屋交易\n",
    "x_lvr_land_c：租房交易\n",
    "\"\"\""
   ]
  },
  {
   "cell_type": "code",
   "execution_count": 15,
   "metadata": {},
   "outputs": [
    {
     "name": "stdout",
     "output_type": "stream",
     "text": [
      "real_estate1051\n",
      "real_estate1052\n",
      "real_estate1053\n",
      "real_estate1054\n",
      "real_estate1061\n",
      "real_estate1062\n",
      "real_estate1063\n",
      "real_estate1064\n",
      "real_estate1071\n",
      "real_estate1072\n",
      "real_estate1073\n",
      "real_estate1074\n",
      "real_estate1081\n",
      "real_estate1082\n"
     ]
    }
   ],
   "source": [
    "import os\n",
    "import pandas as pd\n",
    "dirs = [d for d in os.listdir() if d[:4] == 'real' and int(d[11:14]) >=105 ]\n",
    "\n",
    "dfs = []\n",
    "\n",
    "for d in dirs:\n",
    "    print(d)\n",
    "\n",
    "    df = pd.read_csv(os.path.join(d,'a_lvr_land_a.csv'), index_col=False)\n",
    "    df['Q'] = d[-1]\n",
    "    dfs.append(df.iloc[1:])\n",
    "    \n",
    "df = pd.concat(dfs, sort=True)"
   ]
  },
  {
   "cell_type": "code",
   "execution_count": 16,
   "metadata": {},
   "outputs": [],
   "source": [
    "#資訊還必須再經過處理，才會讓我們待會的資料分析更好下手"
   ]
  },
  {
   "cell_type": "code",
   "execution_count": 17,
   "metadata": {},
   "outputs": [],
   "source": [
    "def process(df):\n",
    "  df['year'] = df['交易年月日'].str[:-4].astype(int) + 1911\n",
    "  df['單價元平方公尺'].fillna(df['單價元/平方公尺'], inplace=True)\n",
    "  df.drop(columns='單價元/平方公尺')\n",
    "  df['單價元平方公尺'] = df['單價元平方公尺'].astype(float)\n",
    "  df['建物型態2'] = df['建物型態'].str.split('(').str[0]\n",
    "\n",
    "  df.index = pd.to_datetime((df['交易年月日'].str[:-4].astype(int) + 1911).astype(str) + df['交易年月日'].str[-4:] ,errors='coerce')\n",
    "\n",
    "\n",
    "process(df)"
   ]
  },
  {
   "cell_type": "code",
   "execution_count": null,
   "metadata": {},
   "outputs": [],
   "source": [
    "\"\"\"\n",
    "set:集合\n",
    "集合（set）是一个无序的不重复元素序列。\n",
    "\n",
    "可以使用大括号 { } 或者 set() 函数创建集合，\n",
    "注意：创建一个空集合必须用 set() 而不是 { }，因为 { } 是用来创建一个空字典。\n",
    "\"\"\""
   ]
  },
  {
   "cell_type": "code",
   "execution_count": 18,
   "metadata": {},
   "outputs": [
    {
     "data": {
      "text/plain": [
       "{'中山區',\n",
       " '中正區',\n",
       " '信義區',\n",
       " '內湖區',\n",
       " '北投區',\n",
       " '南港區',\n",
       " '士林區',\n",
       " '大同區',\n",
       " '大安區',\n",
       " '文山區',\n",
       " '松山區',\n",
       " '萬華區'}"
      ]
     },
     "execution_count": 18,
     "metadata": {},
     "output_type": "execute_result"
    }
   ],
   "source": [
    "set(df['鄉鎮市區'])"
   ]
  },
  {
   "cell_type": "code",
   "execution_count": 19,
   "metadata": {},
   "outputs": [
    {
     "data": {
      "text/html": [
       "<div>\n",
       "<style scoped>\n",
       "    .dataframe tbody tr th:only-of-type {\n",
       "        vertical-align: middle;\n",
       "    }\n",
       "\n",
       "    .dataframe tbody tr th {\n",
       "        vertical-align: top;\n",
       "    }\n",
       "\n",
       "    .dataframe thead th {\n",
       "        text-align: right;\n",
       "    }\n",
       "</style>\n",
       "<table border=\"1\" class=\"dataframe\">\n",
       "  <thead>\n",
       "    <tr style=\"text-align: right;\">\n",
       "      <th></th>\n",
       "      <th>中正區</th>\n",
       "      <th>文山區</th>\n",
       "      <th>大同區</th>\n",
       "      <th>內湖區</th>\n",
       "      <th>松山區</th>\n",
       "      <th>北投區</th>\n",
       "      <th>中山區</th>\n",
       "      <th>南港區</th>\n",
       "      <th>萬華區</th>\n",
       "      <th>士林區</th>\n",
       "      <th>信義區</th>\n",
       "      <th>大安區</th>\n",
       "    </tr>\n",
       "    <tr>\n",
       "      <th>year</th>\n",
       "      <th></th>\n",
       "      <th></th>\n",
       "      <th></th>\n",
       "      <th></th>\n",
       "      <th></th>\n",
       "      <th></th>\n",
       "      <th></th>\n",
       "      <th></th>\n",
       "      <th></th>\n",
       "      <th></th>\n",
       "      <th></th>\n",
       "      <th></th>\n",
       "    </tr>\n",
       "  </thead>\n",
       "  <tbody>\n",
       "    <tr>\n",
       "      <th>2012</th>\n",
       "      <td>244000.138462</td>\n",
       "      <td>218644.000000</td>\n",
       "      <td>202647.000000</td>\n",
       "      <td>224739.820000</td>\n",
       "      <td>NaN</td>\n",
       "      <td>192524.125000</td>\n",
       "      <td>237046.735294</td>\n",
       "      <td>100170.000000</td>\n",
       "      <td>188616.785714</td>\n",
       "      <td>254123.875000</td>\n",
       "      <td>210544.000000</td>\n",
       "      <td>194391.500000</td>\n",
       "    </tr>\n",
       "    <tr>\n",
       "      <th>2013</th>\n",
       "      <td>233367.500000</td>\n",
       "      <td>194554.100000</td>\n",
       "      <td>NaN</td>\n",
       "      <td>246581.783784</td>\n",
       "      <td>135845.000000</td>\n",
       "      <td>223235.975610</td>\n",
       "      <td>264638.698630</td>\n",
       "      <td>NaN</td>\n",
       "      <td>184271.346154</td>\n",
       "      <td>159545.140000</td>\n",
       "      <td>NaN</td>\n",
       "      <td>NaN</td>\n",
       "    </tr>\n",
       "    <tr>\n",
       "      <th>2014</th>\n",
       "      <td>229326.000000</td>\n",
       "      <td>NaN</td>\n",
       "      <td>201630.692308</td>\n",
       "      <td>244392.916667</td>\n",
       "      <td>NaN</td>\n",
       "      <td>223275.352381</td>\n",
       "      <td>238908.333333</td>\n",
       "      <td>215640.750000</td>\n",
       "      <td>205652.858491</td>\n",
       "      <td>177110.166667</td>\n",
       "      <td>127019.000000</td>\n",
       "      <td>265721.000000</td>\n",
       "    </tr>\n",
       "    <tr>\n",
       "      <th>2015</th>\n",
       "      <td>188227.561576</td>\n",
       "      <td>137976.990025</td>\n",
       "      <td>167524.762590</td>\n",
       "      <td>175388.439580</td>\n",
       "      <td>186970.354430</td>\n",
       "      <td>159080.335317</td>\n",
       "      <td>188708.583878</td>\n",
       "      <td>162235.000000</td>\n",
       "      <td>147911.450549</td>\n",
       "      <td>163482.983099</td>\n",
       "      <td>174106.366255</td>\n",
       "      <td>203080.557641</td>\n",
       "    </tr>\n",
       "    <tr>\n",
       "      <th>2016</th>\n",
       "      <td>200409.750623</td>\n",
       "      <td>136857.885714</td>\n",
       "      <td>163325.066474</td>\n",
       "      <td>162851.383333</td>\n",
       "      <td>195608.545145</td>\n",
       "      <td>148560.263256</td>\n",
       "      <td>185610.446732</td>\n",
       "      <td>162504.842795</td>\n",
       "      <td>174978.662681</td>\n",
       "      <td>159933.972376</td>\n",
       "      <td>181294.856037</td>\n",
       "      <td>219202.869448</td>\n",
       "    </tr>\n",
       "  </tbody>\n",
       "</table>\n",
       "</div>"
      ],
      "text/plain": [
       "                中正區            文山區            大同區            內湖區  \\\n",
       "year                                                               \n",
       "2012  244000.138462  218644.000000  202647.000000  224739.820000   \n",
       "2013  233367.500000  194554.100000            NaN  246581.783784   \n",
       "2014  229326.000000            NaN  201630.692308  244392.916667   \n",
       "2015  188227.561576  137976.990025  167524.762590  175388.439580   \n",
       "2016  200409.750623  136857.885714  163325.066474  162851.383333   \n",
       "\n",
       "                松山區            北投區            中山區            南港區  \\\n",
       "year                                                               \n",
       "2012            NaN  192524.125000  237046.735294  100170.000000   \n",
       "2013  135845.000000  223235.975610  264638.698630            NaN   \n",
       "2014            NaN  223275.352381  238908.333333  215640.750000   \n",
       "2015  186970.354430  159080.335317  188708.583878  162235.000000   \n",
       "2016  195608.545145  148560.263256  185610.446732  162504.842795   \n",
       "\n",
       "                萬華區            士林區            信義區            大安區  \n",
       "year                                                              \n",
       "2012  188616.785714  254123.875000  210544.000000  194391.500000  \n",
       "2013  184271.346154  159545.140000            NaN            NaN  \n",
       "2014  205652.858491  177110.166667  127019.000000  265721.000000  \n",
       "2015  147911.450549  163482.983099  174106.366255  203080.557641  \n",
       "2016  174978.662681  159933.972376  181294.856037  219202.869448  "
      ]
     },
     "execution_count": 19,
     "metadata": {},
     "output_type": "execute_result"
    }
   ],
   "source": [
    "#圖表分析\n",
    "prices = {}\n",
    "for district in set(df['鄉鎮市區']):\n",
    "    cond = (\n",
    "        (df['主要用途'] == '住家用')\n",
    "        & (df['鄉鎮市區'] == district)\n",
    "        & (df['單價元平方公尺'] < df[\"單價元平方公尺\"].quantile(0.9))\n",
    "        & (df['單價元平方公尺'] > df[\"單價元平方公尺\"].quantile(0.1))\n",
    "        )\n",
    "    \n",
    "    groups = df[cond]['year']\n",
    "    \n",
    "    prices[district] = df[cond]['單價元平方公尺'].astype(float).groupby(groups).mean().loc[2012:]\n",
    "\n",
    "prices = pd.DataFrame(prices)\n",
    "prices.head()"
   ]
  },
  {
   "cell_type": "code",
   "execution_count": 20,
   "metadata": {},
   "outputs": [
    {
     "data": {
      "text/plain": [
       "<matplotlib.axes._subplots.AxesSubplot at 0x1637870a940>"
      ]
     },
     "execution_count": 20,
     "metadata": {},
     "output_type": "execute_result"
    },
    {
     "data": {
      "image/png": "[encoded data removed]",
      "text/plain": [
       "<Figure size 432x288 with 1 Axes>"
      ]
     },
     "metadata": {},
     "output_type": "display_data"
    }
   ],
   "source": [
    "prices.plot()"
   ]
  },
  {
   "cell_type": "code",
   "execution_count": 21,
   "metadata": {},
   "outputs": [
    {
     "data": {
      "text/plain": [
       "<matplotlib.axes._subplots.AxesSubplot at 0x16378720780>"
      ]
     },
     "execution_count": 21,
     "metadata": {},
     "output_type": "execute_result"
    },
    {
     "data": {
      "image/png": "[encoded data removed]",
      "text/plain": [
       "<Figure size 432x288 with 1 Axes>"
      ]
     },
     "metadata": {},
     "output_type": "display_data"
    }
   ],
   "source": [
    "prices.mean(axis=1).plot()"
   ]
  },
  {
   "cell_type": "code",
   "execution_count": 22,
   "metadata": {},
   "outputs": [
    {
     "data": {
      "text/plain": [
       "<matplotlib.axes._subplots.AxesSubplot at 0x16378e55a58>"
      ]
     },
     "execution_count": 22,
     "metadata": {},
     "output_type": "execute_result"
    },
    {
     "data": {
      "image/png": "[encoded data removed]",
      "text/plain": [
       "<Figure size 432x288 with 1 Axes>"
      ]
     },
     "metadata": {},
     "output_type": "display_data"
    }
   ],
   "source": [
    "building_type_prices = {}\n",
    "for building_type in set(df['建物型態2']):\n",
    "    cond = (\n",
    "        (df['主要用途'] == '住家用')\n",
    "        & (df['單價元平方公尺'] < df[\"單價元平方公尺\"].quantile(0.8))\n",
    "        & (df['單價元平方公尺'] > df[\"單價元平方公尺\"].quantile(0.2))\n",
    "        & (df['建物型態2'] == building_type)\n",
    "        )\n",
    "    building_type_prices[building_type] = df[cond]['單價元平方公尺'].groupby(df[cond]['year']).mean().loc[2012:]\n",
    "pd.DataFrame(building_type_prices)[['公寓', '住宅大樓', '套房', '華廈']].plot()"
   ]
  },
  {
   "cell_type": "code",
   "execution_count": 23,
   "metadata": {},
   "outputs": [
    {
     "ename": "NameError",
     "evalue": "name 'plt' is not defined",
     "output_type": "error",
     "traceback": [
      "\u001b[1;31m---------------------------------------------------------------------------\u001b[0m",
      "\u001b[1;31mNameError\u001b[0m                                 Traceback (most recent call last)",
      "\u001b[1;32m<ipython-input-23-58a4db9cabea>\u001b[0m in \u001b[0;36m<module>\u001b[1;34m()\u001b[0m\n\u001b[0;32m      3\u001b[0m   \u001b[0mdfdistrict\u001b[0m\u001b[1;33m[\u001b[0m\u001b[1;34m'單價元平方公尺'\u001b[0m\u001b[1;33m]\u001b[0m\u001b[1;33m[\u001b[0m\u001b[0mdfdistrict\u001b[0m\u001b[1;33m[\u001b[0m\u001b[1;34m'單價元平方公尺'\u001b[0m\u001b[1;33m]\u001b[0m \u001b[1;33m<\u001b[0m \u001b[1;36m1000000\u001b[0m\u001b[1;33m]\u001b[0m\u001b[1;33m.\u001b[0m\u001b[0mhist\u001b[0m\u001b[1;33m(\u001b[0m\u001b[0mbins\u001b[0m\u001b[1;33m=\u001b[0m\u001b[1;36m100\u001b[0m\u001b[1;33m,\u001b[0m \u001b[0malpha\u001b[0m\u001b[1;33m=\u001b[0m\u001b[1;36m0.7\u001b[0m\u001b[1;33m)\u001b[0m\u001b[1;33m\u001b[0m\u001b[0m\n\u001b[0;32m      4\u001b[0m \u001b[1;33m\u001b[0m\u001b[0m\n\u001b[1;32m----> 5\u001b[1;33m \u001b[0mplt\u001b[0m\u001b[1;33m.\u001b[0m\u001b[0mxlim\u001b[0m\u001b[1;33m(\u001b[0m\u001b[1;36m0\u001b[0m\u001b[1;33m,\u001b[0m \u001b[1;36m1000000\u001b[0m\u001b[1;33m)\u001b[0m\u001b[1;33m\u001b[0m\u001b[0m\n\u001b[0m",
      "\u001b[1;31mNameError\u001b[0m: name 'plt' is not defined"
     ]
    },
    {
     "data": {
      "image/png": "[encoded data removed]",
      "text/plain": [
       "<Figure size 432x288 with 1 Axes>"
      ]
     },
     "metadata": {},
     "output_type": "display_data"
    }
   ],
   "source": [
    "for district in set(df['鄉鎮市區']):\n",
    "  dfdistrict = df[df['鄉鎮市區'] == district]\n",
    "  dfdistrict['單價元平方公尺'][dfdistrict['單價元平方公尺'] < 1000000].hist(bins=100, alpha=0.7)\n",
    "\n",
    "plt.xlim(0, 1000000)"
   ]
  },
  {
   "cell_type": "code",
   "execution_count": null,
   "metadata": {},
   "outputs": [],
   "source": [
    "#以上參考https://www.finlab.tw/"
   ]
  },
  {
   "cell_type": "code",
   "execution_count": null,
   "metadata": {},
   "outputs": [],
   "source": []
  }
 ],
 "metadata": {
  "kernelspec": {
   "display_name": "Python 3",
   "language": "python",
   "name": "python3"
  },
  "language_info": {
   "codemirror_mode": {
    "name": "ipython",
    "version": 3
   },
   "file_extension": ".py",
   "mimetype": "text/x-python",
   "name": "python",
   "nbconvert_exporter": "python",
   "pygments_lexer": "ipython3",
   "version": "3.6.5"
  }
 },
 "nbformat": 4,
 "nbformat_minor": 2
}
