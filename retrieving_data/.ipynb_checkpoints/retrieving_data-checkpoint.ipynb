{
 "cells": [
  {
   "cell_type": "code",
   "execution_count": 1,
   "metadata": {},
   "outputs": [
    {
     "data": {
      "text/plain": [
       "'\\ndef real_estate_crawler(year, season):\\n  if year > 1000:\\n    year -= 1911\\n\\n  # download real estate zip file\\n  res = requests.get(\"https://plvr.land.moi.gov.tw//DownloadSeason?season=\"+str(year)+\"S\"+str(season)+\"&type=zip&fileName=lvr_landcsv.zip\")\\n\\n  # save content to file\\n  fname = str(year)+str(season)+\\'.zip\\'\\n  open(fname, \\'wb\\').write(res.content)\\n\\n  # make additional folder for files to extract\\n  folder = \\'real_estate\\' + str(year) + str(season)\\n  if not os.path.isdir(folder):\\n    os.mkdir(folder)\\n\\n  # extract files to the folder\\n  with zipfile.ZipFile(fname, \\'r\\') as zip_ref:\\n    zip_ref.extractall(folder)\\n\\n  time.sleep(10)\\n\\nreal_estate_crawler(101, 3)\\nreal_estate_crawler(101, 4)\\n\\nfor year in range(102, 108):\\n  for season in range(1,5):\\n    print(year, season)\\n    real_estate_crawler(year, season)\\n\\nreal_estate_crawler(108, 1)\\nreal_estate_crawler(108, 2)\\n'"
      ]
     },
     "execution_count": 1,
     "metadata": {},
     "output_type": "execute_result"
    }
   ],
   "source": [
    "#此段下載資料，如果沒有要下載勿重複使用\n",
    "\"\"\"\n",
    "def real_estate_crawler(year, season):\n",
    "  if year > 1000:\n",
    "    year -= 1911\n",
    "\n",
    "  # download real estate zip file\n",
    "  res = requests.get(\"https://plvr.land.moi.gov.tw//DownloadSeason?season=\"+str(year)+\"S\"+str(season)+\"&type=zip&fileName=lvr_landcsv.zip\")\n",
    "\n",
    "  # save content to file\n",
    "  fname = str(year)+str(season)+'.zip'\n",
    "  open(fname, 'wb').write(res.content)\n",
    "\n",
    "  # make additional folder for files to extract\n",
    "  folder = 'real_estate' + str(year) + str(season)\n",
    "  if not os.path.isdir(folder):\n",
    "    os.mkdir(folder)\n",
    "\n",
    "  # extract files to the folder\n",
    "  with zipfile.ZipFile(fname, 'r') as zip_ref:\n",
    "    zip_ref.extractall(folder)\n",
    "\n",
    "  time.sleep(10)\n",
    "\n",
    "real_estate_crawler(101, 3)\n",
    "real_estate_crawler(101, 4)\n",
    "\n",
    "for year in range(102, 108):\n",
    "  for season in range(1,5):\n",
    "    print(year, season)\n",
    "    real_estate_crawler(year, season)\n",
    "\n",
    "real_estate_crawler(108, 1)\n",
    "real_estate_crawler(108, 2)\n",
    "\"\"\""
   ]
  },
  {
   "cell_type": "code",
   "execution_count": 2,
   "metadata": {},
   "outputs": [],
   "source": [
    "#爬取了實價登入所有歷史數據\n",
    "import requests\n",
    "import os\n",
    "import zipfile\n",
    "import time"
   ]
  },
  {
   "cell_type": "code",
   "execution_count": 3,
   "metadata": {},
   "outputs": [
    {
     "data": {
      "text/plain": [
       "\"'公寓(5樓含以下無電梯)', '透天厝', '套房(1房1廳1衛)', '住宅大樓(11層含以上有電梯)',\\n       '華廈(10層含以下有電梯)',\""
      ]
     },
     "execution_count": 3,
     "metadata": {},
     "output_type": "execute_result"
    }
   ],
   "source": [
    "\"\"\"'公寓(5樓含以下無電梯)', '透天厝', '套房(1房1廳1衛)', '住宅大樓(11層含以上有電梯)',\n",
    "       '華廈(10層含以下有電梯)',\"\"\""
   ]
  },
  {
   "cell_type": "code",
   "execution_count": 4,
   "metadata": {},
   "outputs": [
    {
     "data": {
      "text/plain": [
       "'x_lvr_land_a：房屋買賣交易\\nx_lvr_land_b：新成屋交易\\nx_lvr_land_c：租房交易\\n'"
      ]
     },
     "execution_count": 4,
     "metadata": {},
     "output_type": "execute_result"
    }
   ],
   "source": [
    "\"\"\"x_lvr_land_a：房屋買賣交易\n",
    "x_lvr_land_b：新成屋交易\n",
    "x_lvr_land_c：租房交易\n",
    "\"\"\""
   ]
  },
  {
   "cell_type": "code",
   "execution_count": 134,
   "metadata": {},
   "outputs": [
    {
     "name": "stdout",
     "output_type": "stream",
     "text": [
      "real_estate1051\n",
      "real_estate1052\n",
      "real_estate1053\n",
      "real_estate1054\n",
      "real_estate1061\n",
      "real_estate1062\n",
      "real_estate1063\n",
      "real_estate1064\n",
      "real_estate1071\n",
      "real_estate1072\n",
      "real_estate1073\n",
      "real_estate1074\n",
      "real_estate1081\n",
      "real_estate1082\n"
     ]
    }
   ],
   "source": [
    "#本案例只對二手房市做預測\n",
    "import os\n",
    "import pandas as pd\n",
    "import numpy as np\n",
    "dirs = [d for d in os.listdir() if d[:4] == 'real' and int(d[11:14]) >=105 ]\n",
    "\n",
    "dfs = []\n",
    "\n",
    "for d in dirs:\n",
    "    print(d)\n",
    "\n",
    "    df = pd.read_csv(os.path.join(d,'a_lvr_land_a.csv'), index_col=False)\n",
    "    df['Q'] = d[-1]\n",
    "    dfs.append(df.iloc[1:])\n",
    "    \n",
    "df = pd.concat(dfs, sort=True)"
   ]
  },
  {
   "cell_type": "code",
   "execution_count": 135,
   "metadata": {},
   "outputs": [],
   "source": [
    "#資訊還必須再經過處理，才會讓我們待會的資料分析更好下手"
   ]
  },
  {
   "cell_type": "code",
   "execution_count": 136,
   "metadata": {},
   "outputs": [],
   "source": [
    "def process(df):\n",
    "  df['year'] = df['交易年月日'].str[:-4].astype(int) + 1911\n",
    "  # 不同名稱同項目資料合併\n",
    "  df['單價元平方公尺'].fillna(df['單價元/平方公尺'], inplace=True)\n",
    "  df.drop(columns='單價元/平方公尺')\n",
    "  # 平方公尺換成坪\n",
    "  df['單價元平方公尺'] = df['單價元平方公尺'].astype(float)\n",
    "  df['建物型態2'] = df['建物型態'].str.split('(').str[0]\n",
    "  # 刪除有備註之交易（多為親友交易、價格不正常之交易）\n",
    "  df = df[df['備註'].isnull()]\n",
    "\n",
    "  df.index = pd.to_datetime((df['交易年月日'].str[:-4].astype(int) + 1911).astype(str) + df['交易年月日'].str[-4:] ,errors='coerce')\n",
    "\n",
    "\n",
    "process(df)"
   ]
  },
  {
   "cell_type": "code",
   "execution_count": 137,
   "metadata": {},
   "outputs": [
    {
     "data": {
      "text/plain": [
       "'\\nset:集合\\n集合（set）是一个无序的不重复元素序列。\\n\\n可以使用大括号 { } 或者 set() 函数创建集合，\\n注意：创建一个空集合必须用 set() 而不是 { }，因为 { } 是用来创建一个空字典。\\n'"
      ]
     },
     "execution_count": 137,
     "metadata": {},
     "output_type": "execute_result"
    }
   ],
   "source": [
    "\"\"\"\n",
    "set:集合\n",
    "集合（set）是一个无序的不重复元素序列。\n",
    "\n",
    "可以使用大括号 { } 或者 set() 函数创建集合，\n",
    "注意：创建一个空集合必须用 set() 而不是 { }，因为 { } 是用来创建一个空字典。\n",
    "\"\"\""
   ]
  },
  {
   "cell_type": "code",
   "execution_count": 138,
   "metadata": {},
   "outputs": [],
   "source": [
    "#篩選建物型態\n",
    "df=df[df[\"建物型態\"].isin(['公寓(5樓含以下無電梯)',  '套房(1房1廳1衛)', '住宅大樓(11層含以上有電梯)','華廈(10層含以下有電梯)'])]"
   ]
  },
  {
   "cell_type": "code",
   "execution_count": 139,
   "metadata": {},
   "outputs": [
    {
     "data": {
      "text/plain": [
       "array(['公寓(5樓含以下無電梯)', '套房(1房1廳1衛)', '住宅大樓(11層含以上有電梯)', '華廈(10層含以下有電梯)'],\n",
       "      dtype=object)"
      ]
     },
     "execution_count": 139,
     "metadata": {},
     "output_type": "execute_result"
    }
   ],
   "source": [
    "#check\n",
    "df[\"建物型態\"].unique()"
   ]
  },
  {
   "cell_type": "code",
   "execution_count": 140,
   "metadata": {},
   "outputs": [
    {
     "data": {
      "text/plain": [
       "{'中山區',\n",
       " '中正區',\n",
       " '信義區',\n",
       " '內湖區',\n",
       " '北投區',\n",
       " '南港區',\n",
       " '士林區',\n",
       " '大同區',\n",
       " '大安區',\n",
       " '文山區',\n",
       " '松山區',\n",
       " '萬華區'}"
      ]
     },
     "execution_count": 140,
     "metadata": {},
     "output_type": "execute_result"
    }
   ],
   "source": [
    "set(df['鄉鎮市區'])"
   ]
  },
  {
   "cell_type": "code",
   "execution_count": 141,
   "metadata": {},
   "outputs": [
    {
     "data": {
      "text/plain": [
       "Index(['Q', '主要建材', '主要用途', '交易年月日', '交易標的', '交易筆棟數', '備註', '單價元/平方公尺',\n",
       "       '單價元平方公尺', '土地區段位置/建物區段門牌', '土地區段位置建物區段門牌', '土地移轉總面積平方公尺', '建物型態',\n",
       "       '建物現況格局-廳', '建物現況格局-房', '建物現況格局-衛', '建物現況格局-隔間', '建物移轉總面積平方公尺',\n",
       "       '建築完成年月', '有無管理組織', '移轉層次', '編號', '總價元', '總樓層數', '車位移轉總面積平方公尺', '車位總價元',\n",
       "       '車位類別', '都市土地使用分區', '鄉鎮市區', '非都市土地使用分區', '非都市土地使用編定', 'year', '建物型態2'],\n",
       "      dtype='object')"
      ]
     },
     "execution_count": 141,
     "metadata": {},
     "output_type": "execute_result"
    }
   ],
   "source": [
    "df.columns"
   ]
  },
  {
   "cell_type": "code",
   "execution_count": 142,
   "metadata": {},
   "outputs": [
    {
     "data": {
      "text/plain": [
       "array(['鋼筋混凝土造', '加強磚造', '見其他登記事項', '鋼骨鋼筋混凝土造', '磚造', '見使用執照', nan,\n",
       "       '鋼骨混凝土造', '預力混凝土造', '壁式預鑄鋼筋混凝土造', '鋼筋混凝土加強磚造', '土磚石混合造', '木造',\n",
       "       '鋼造'], dtype=object)"
      ]
     },
     "execution_count": 142,
     "metadata": {},
     "output_type": "execute_result"
    }
   ],
   "source": [
    "df.主要建材.unique()"
   ]
  },
  {
   "cell_type": "code",
   "execution_count": 143,
   "metadata": {},
   "outputs": [],
   "source": [
    "try:\n",
    "    special_material = ['見其他登記事項','見使用執照', nan]\n",
    "except:\n",
    "    special_material = []"
   ]
  },
  {
   "cell_type": "code",
   "execution_count": 144,
   "metadata": {},
   "outputs": [
    {
     "data": {
      "text/plain": [
       "[]"
      ]
     },
     "execution_count": 144,
     "metadata": {},
     "output_type": "execute_result"
    }
   ],
   "source": [
    "#可以發現nan無法直接進入list，所以isin沒辦法處理nan\n",
    "special_material"
   ]
  },
  {
   "cell_type": "code",
   "execution_count": null,
   "metadata": {},
   "outputs": [],
   "source": [
    "\n"
   ]
  },
  {
   "cell_type": "code",
   "execution_count": 145,
   "metadata": {},
   "outputs": [],
   "source": [
    "#nan先轉換成'NaN'後再用isin刪除\n",
    "na_equiv = 'NaN'\n",
    "df[\"主要建材\"].replace(pd.np.nan, na_equiv,inplace=True)\n",
    "try:\n",
    "    specialcategory = ['見其他登記事項','見使用執照', 'NaN']\n",
    "except:\n",
    "    specialcategory = []\n",
    "    \n",
    "def deal_special_dump(df,col,specialcategory):\n",
    "    specialcategory.append('NaN')\n",
    "    df[col].replace(pd.np.nan,'NaN',inplace=True)\n",
    "    df=df[~df[col].isin(specialcategory)]\n",
    "    print(\"unique col now:\",df[col].unique())\n",
    "    return df\n",
    "\n",
    "def deal_special_dump_nan0(df,col,specialcategory=[]):\n",
    "    if df[col].iloc[0].isdigit() is True:\n",
    "        df[col].replace(pd.np.nan,0,inplace=True)\n",
    "    else:\n",
    "        df[col].replace(pd.np.nan,'NaN',inplace=True)\n",
    "    df=df[~df[col].isin(specialcategory)]\n",
    "    print(\"unique col now:\",df[col].unique())\n",
    "    return df\n",
    "\n",
    "def deal_positive_cat(df,col,specialcategory):\n",
    "    df=df[df[col].isin(specialcategory)]\n",
    "    print(\"unique col now:\",df[col].unique())\n",
    "    return df\n",
    "\n",
    "def deal_positive_contain(df,col,specialcategory):\n",
    "    df[col].replace(pd.np.nan,'NaN',inplace=True)\n",
    "    df=df[df[col].str.contains('|'.join(specialcategory))]\n",
    "    return df"
   ]
  },
  {
   "cell_type": "code",
   "execution_count": 146,
   "metadata": {},
   "outputs": [
    {
     "data": {
      "text/plain": [
       "array(['鋼筋混凝土造', '加強磚造', '見其他登記事項', '鋼骨鋼筋混凝土造', '磚造', '見使用執照', 'NaN',\n",
       "       '鋼骨混凝土造', '預力混凝土造', '壁式預鑄鋼筋混凝土造', '鋼筋混凝土加強磚造', '土磚石混合造', '木造',\n",
       "       '鋼造'], dtype=object)"
      ]
     },
     "execution_count": 146,
     "metadata": {},
     "output_type": "execute_result"
    }
   ],
   "source": [
    "df.主要建材.unique()"
   ]
  },
  {
   "cell_type": "code",
   "execution_count": 147,
   "metadata": {},
   "outputs": [
    {
     "name": "stdout",
     "output_type": "stream",
     "text": [
      "unique col now: ['鋼筋混凝土造' '加強磚造' '鋼骨鋼筋混凝土造' '磚造' '鋼骨混凝土造' '預力混凝土造' '壁式預鑄鋼筋混凝土造'\n",
      " '鋼筋混凝土加強磚造' '土磚石混合造' '木造' '鋼造']\n"
     ]
    }
   ],
   "source": [
    "df=deal_special_dump(df,\"主要建材\",['見使用執照', '見其他登記事項'])"
   ]
  },
  {
   "cell_type": "code",
   "execution_count": 148,
   "metadata": {},
   "outputs": [
    {
     "data": {
      "text/plain": [
       "array(['住家用', '商業用', '見使用執照', '見其他登記事項', nan, '住商用', '工業用', '住工用', '停車空間',\n",
       "       '工商用', '國民住宅'], dtype=object)"
      ]
     },
     "execution_count": 148,
     "metadata": {},
     "output_type": "execute_result"
    }
   ],
   "source": [
    "df.主要用途.unique()"
   ]
  },
  {
   "cell_type": "code",
   "execution_count": 149,
   "metadata": {},
   "outputs": [
    {
     "data": {
      "text/plain": [
       "'住家用'"
      ]
     },
     "execution_count": 149,
     "metadata": {},
     "output_type": "execute_result"
    }
   ],
   "source": [
    "df['主要用途'].iloc[0]"
   ]
  },
  {
   "cell_type": "code",
   "execution_count": 150,
   "metadata": {},
   "outputs": [
    {
     "name": "stdout",
     "output_type": "stream",
     "text": [
      "unique col now: ['住家用' '商業用' '住商用' '工業用' '住工用' '停車空間' '工商用' '國民住宅']\n"
     ]
    }
   ],
   "source": [
    "df=deal_special_dump(df,\"主要用途\",['見使用執照', '見其他登記事項'])"
   ]
  },
  {
   "cell_type": "code",
   "execution_count": 151,
   "metadata": {},
   "outputs": [
    {
     "data": {
      "text/plain": [
       "array(['房地(土地+建物)', '房地(土地+建物)+車位', '建物'], dtype=object)"
      ]
     },
     "execution_count": 151,
     "metadata": {},
     "output_type": "execute_result"
    }
   ],
   "source": [
    "df.交易標的.unique()"
   ]
  },
  {
   "cell_type": "code",
   "execution_count": 152,
   "metadata": {},
   "outputs": [
    {
     "data": {
      "text/plain": [
       "1       1041005\n",
       "33      1041003\n",
       "34      1040921\n",
       "35      1041007\n",
       "36      1040925\n",
       "37      1041012\n",
       "38      1040902\n",
       "40      1041020\n",
       "41      1040916\n",
       "42      1041003\n",
       "43      1040927\n",
       "44      1040823\n",
       "45      1041006\n",
       "46      1040918\n",
       "48      1041020\n",
       "49      1041018\n",
       "50      1040827\n",
       "53      1041019\n",
       "54      1041016\n",
       "55      1041012\n",
       "56      1041008\n",
       "61      1040922\n",
       "62      1041006\n",
       "63      1000224\n",
       "64      1040912\n",
       "65      1041020\n",
       "67      1041014\n",
       "68      1041008\n",
       "69      1020430\n",
       "70      1041013\n",
       "         ...   \n",
       "5528    1080501\n",
       "5530    1080406\n",
       "5531    1080401\n",
       "5532    1080225\n",
       "5533    1071207\n",
       "5534    1080401\n",
       "5535    1080323\n",
       "5536    1080405\n",
       "5537    1071029\n",
       "5538    1080312\n",
       "5541    1080412\n",
       "5544    1080408\n",
       "5545    1080326\n",
       "5546    1080413\n",
       "5547    1080331\n",
       "5548    1080418\n",
       "5550    1080408\n",
       "5551    1080227\n",
       "5555    1080429\n",
       "5556    1080422\n",
       "5557    1080328\n",
       "5558    1080328\n",
       "5559    1080115\n",
       "5560    1080410\n",
       "5562    1060422\n",
       "5563    1080410\n",
       "5565    1080330\n",
       "5568    1080218\n",
       "5569    1080422\n",
       "5570    1080403\n",
       "Name: 交易年月日, Length: 46636, dtype: object"
      ]
     },
     "execution_count": 152,
     "metadata": {},
     "output_type": "execute_result"
    }
   ],
   "source": [
    "df.交易年月日"
   ]
  },
  {
   "cell_type": "code",
   "execution_count": 153,
   "metadata": {},
   "outputs": [
    {
     "data": {
      "text/plain": [
       "1       2015\n",
       "33      2015\n",
       "34      2015\n",
       "35      2015\n",
       "36      2015\n",
       "37      2015\n",
       "38      2015\n",
       "40      2015\n",
       "41      2015\n",
       "42      2015\n",
       "43      2015\n",
       "44      2015\n",
       "45      2015\n",
       "46      2015\n",
       "48      2015\n",
       "49      2015\n",
       "50      2015\n",
       "53      2015\n",
       "54      2015\n",
       "55      2015\n",
       "56      2015\n",
       "61      2015\n",
       "62      2015\n",
       "63      2011\n",
       "64      2015\n",
       "65      2015\n",
       "67      2015\n",
       "68      2015\n",
       "69      2013\n",
       "70      2015\n",
       "        ... \n",
       "5528    2019\n",
       "5530    2019\n",
       "5531    2019\n",
       "5532    2019\n",
       "5533    2018\n",
       "5534    2019\n",
       "5535    2019\n",
       "5536    2019\n",
       "5537    2018\n",
       "5538    2019\n",
       "5541    2019\n",
       "5544    2019\n",
       "5545    2019\n",
       "5546    2019\n",
       "5547    2019\n",
       "5548    2019\n",
       "5550    2019\n",
       "5551    2019\n",
       "5555    2019\n",
       "5556    2019\n",
       "5557    2019\n",
       "5558    2019\n",
       "5559    2019\n",
       "5560    2019\n",
       "5562    2017\n",
       "5563    2019\n",
       "5565    2019\n",
       "5568    2019\n",
       "5569    2019\n",
       "5570    2019\n",
       "Name: year, Length: 46636, dtype: int32"
      ]
     },
     "execution_count": 153,
     "metadata": {},
     "output_type": "execute_result"
    }
   ],
   "source": [
    "df.year"
   ]
  },
  {
   "cell_type": "code",
   "execution_count": 154,
   "metadata": {},
   "outputs": [
    {
     "name": "stdout",
     "output_type": "stream",
     "text": [
      "unique col now: [2015 2016 2017 2018 2019]\n"
     ]
    }
   ],
   "source": [
    "df = deal_positive_cat(df,\"year\",[2015,2016,2017,2018,2019])\n"
   ]
  },
  {
   "cell_type": "code",
   "execution_count": 155,
   "metadata": {},
   "outputs": [
    {
     "data": {
      "text/plain": [
       "array(['房地(土地+建物)', '房地(土地+建物)+車位', '建物'], dtype=object)"
      ]
     },
     "execution_count": 155,
     "metadata": {},
     "output_type": "execute_result"
    }
   ],
   "source": [
    "#要修改\n",
    "df.交易標的.unique()"
   ]
  },
  {
   "cell_type": "code",
   "execution_count": 156,
   "metadata": {},
   "outputs": [
    {
     "data": {
      "text/plain": [
       "array(['土地1建物1車位0', '土地2建物1車位0', '土地1建物1車位1', '土地5建物1車位0', '土地1建物1車位2',\n",
       "       '土地6建物1車位0', '土地3建物1車位1', '土地1建物2車位1', '土地2建物1車位1', '土地3建物1車位0',\n",
       "       '土地5建物2車位1', '土地2建物1車位2', '土地4建物1車位0', '土地1建物1車位4', '土地1建物2車位0',\n",
       "       '土地7建物1車位0', '土地0建物1車位1', '土地2建物2車位1', '土地0建物1車位0', '土地1建物2車位2',\n",
       "       '土地8建物1車位0', '土地3建物3車位0', '土地1建物1車位3', '土地2建物2車位2', '土地2建物2車位0',\n",
       "       '土地11建物1車位0', '土地2建物1車位4', '土地0建物1車位3', '土地3建物1車位2', '土地1建物3車位0',\n",
       "       '土地2建物3車位1', '土地4建物1車位1', '土地1建物6車位4', '土地4建物1車位2', '土地0建物2車位0',\n",
       "       '土地5建物1車位1', '土地2建物1車位3', '土地1建物1車位6', '土地1建物11車位0', '土地1建物5車位0',\n",
       "       '土地1建物4車位0', '土地1建物12車位0', '土地4建物2車位0', '土地0建物1車位4', '土地10建物1車位0',\n",
       "       '土地16建物1車位1', '土地3建物2車位0', '土地2建物42車位0', '土地2建物12車位0', '土地2建物1車位5',\n",
       "       '土地2建物3車位0', '土地0建物1車位2', '土地3建物1車位3', '土地2建物3車位2', '土地1建物1車位5',\n",
       "       '土地13建物1車位0', '土地1建物2車位4', '土地2建物4車位0', '土地4建物2車位1', '土地0建物2車位2',\n",
       "       '土地1建物3車位3', '土地2建物2車位3', '土地0建物3車位0', '土地1建物2車位6', '土地1建物2車位5',\n",
       "       '土地2建物5車位3', '土地1建物3車位4', '土地12建物1車位0', '土地0建物4車位0', '土地9建物1車位0',\n",
       "       '土地2建物5車位0', '土地1建物1車位10', '土地3建物2車位2', '土地3建物1車位6', '土地3建物6車位1',\n",
       "       '土地6建物1車位1', '土地3建物1車位4', '土地2建物4車位4', '土地1建物2車位3', '土地1建物3車位2',\n",
       "       '土地15建物1車位0', '土地6建物3車位0', '土地1建物1車位33', '土地3建物1車位5', '土地14建物1車位0',\n",
       "       '土地3建物2車位1', '土地0建物13車位16', '土地1建物3車位1', '土地0建物2車位4', '土地1建物8車位0',\n",
       "       '土地28建物1車位0', '土地8建物1車位1', '土地13建物1車位1', '土地2建物6車位0', '土地1建物6車位12',\n",
       "       '土地1建物7車位18', '土地5建物1車位2', '土地1建物2車位8', '土地1建物4車位7', '土地1建物4車位1',\n",
       "       '土地0建物2車位1', '土地1建物3車位6', '土地1建物10車位10', '土地2建物8車位5', '土地3建物4車位0',\n",
       "       '土地8建物2車位0', '土地6建物1車位2', '土地4建物3車位0', '土地7建物2車位1', '土地5建物2車位0',\n",
       "       '土地18建物2車位0', '土地4建物2車位3', '土地8建物2車位1', '土地17建物1車位1', '土地5建物3車位0',\n",
       "       '土地2建物2車位5', '土地1建物4車位4', '土地10建物2車位0', '土地7建物1車位1', '土地18建物1車位1',\n",
       "       '土地1建物4車位2', '土地3建物5車位0', '土地9建物1車位1', '土地13建物2車位0', '土地1建物12車位12',\n",
       "       '土地3建物2車位3', '土地2建物1車位6', '土地1建物9車位16', '土地1建物5車位5', '土地3建物3車位1',\n",
       "       '土地1建物7車位1', '土地1建物1車位86', '土地2建物1車位7', '土地2建物1車位8', '土地11建物2車位2',\n",
       "       '土地4建物1車位12', '土地5建物3車位2', '土地2建物8車位10', '土地2建物9車位0', '土地2建物2車位4',\n",
       "       '土地3建物5車位1', '土地1建物1車位22', '土地1建物6車位0', '土地1建物1車位8', '土地1建物30車位0',\n",
       "       '土地2建物3車位5', '土地9建物2車位0', '土地1建物1車位7', '土地1建物5車位8', '土地2建物10車位0',\n",
       "       '土地1建物1車位9', '土地1建物4車位5', '土地1建物10車位0', '土地0建物8車位0'], dtype=object)"
      ]
     },
     "execution_count": 156,
     "metadata": {},
     "output_type": "execute_result"
    }
   ],
   "source": [
    "df.交易筆棟數.unique()"
   ]
  },
  {
   "cell_type": "code",
   "execution_count": 157,
   "metadata": {},
   "outputs": [],
   "source": [
    "df = df[df['備註'].isnull()]"
   ]
  },
  {
   "cell_type": "code",
   "execution_count": 158,
   "metadata": {},
   "outputs": [
    {
     "data": {
      "text/plain": [
       "356    NaN\n",
       "358    NaN\n",
       "361    NaN\n",
       "362    NaN\n",
       "366    NaN\n",
       "370    NaN\n",
       "373    NaN\n",
       "375    NaN\n",
       "388    NaN\n",
       "390    NaN\n",
       "392    NaN\n",
       "403    NaN\n",
       "404    NaN\n",
       "410    NaN\n",
       "411    NaN\n",
       "413    NaN\n",
       "415    NaN\n",
       "416    NaN\n",
       "419    NaN\n",
       "420    NaN\n",
       "426    NaN\n",
       "427    NaN\n",
       "428    NaN\n",
       "429    NaN\n",
       "430    NaN\n",
       "433    NaN\n",
       "435    NaN\n",
       "436    NaN\n",
       "437    NaN\n",
       "438    NaN\n",
       "      ... \n",
       "539    NaN\n",
       "543    NaN\n",
       "549    NaN\n",
       "552    NaN\n",
       "557    NaN\n",
       "560    NaN\n",
       "564    NaN\n",
       "566    NaN\n",
       "567    NaN\n",
       "569    NaN\n",
       "571    NaN\n",
       "574    NaN\n",
       "575    NaN\n",
       "576    NaN\n",
       "580    NaN\n",
       "581    NaN\n",
       "582    NaN\n",
       "585    NaN\n",
       "588    NaN\n",
       "591    NaN\n",
       "594    NaN\n",
       "595    NaN\n",
       "599    NaN\n",
       "606    NaN\n",
       "607    NaN\n",
       "608    NaN\n",
       "643    NaN\n",
       "644    NaN\n",
       "653    NaN\n",
       "654    NaN\n",
       "Name: 土地區段位置建物區段門牌, Length: 100, dtype: object"
      ]
     },
     "execution_count": 158,
     "metadata": {},
     "output_type": "execute_result"
    }
   ],
   "source": [
    "df['土地區段位置建物區段門牌'][100:200]"
   ]
  },
  {
   "cell_type": "code",
   "execution_count": 159,
   "metadata": {},
   "outputs": [],
   "source": [
    "df = df.drop(['土地區段位置建物區段門牌'], axis=1)"
   ]
  },
  {
   "cell_type": "code",
   "execution_count": 160,
   "metadata": {},
   "outputs": [
    {
     "data": {
      "text/plain": [
       "array(['25.44', '39.2', '12.4', ..., '62.19', '16.68', '99.47'],\n",
       "      dtype=object)"
      ]
     },
     "execution_count": 160,
     "metadata": {},
     "output_type": "execute_result"
    }
   ],
   "source": [
    "df.土地移轉總面積平方公尺.unique()"
   ]
  },
  {
   "cell_type": "code",
   "execution_count": 161,
   "metadata": {},
   "outputs": [
    {
     "data": {
      "text/plain": [
       "array(['公寓(5樓含以下無電梯)', '華廈(10層含以下有電梯)', '住宅大樓(11層含以上有電梯)', '套房(1房1廳1衛)'],\n",
       "      dtype=object)"
      ]
     },
     "execution_count": 161,
     "metadata": {},
     "output_type": "execute_result"
    }
   ],
   "source": [
    "df.建物型態.unique()"
   ]
  },
  {
   "cell_type": "code",
   "execution_count": 162,
   "metadata": {},
   "outputs": [
    {
     "data": {
      "text/plain": [
       "array(['2', '1', '0', '3', '6', '4', '9', '80', '24', '5', '7', '8', '10'],\n",
       "      dtype=object)"
      ]
     },
     "execution_count": 162,
     "metadata": {},
     "output_type": "execute_result"
    }
   ],
   "source": [
    "df['建物現況格局-廳'].unique()"
   ]
  },
  {
   "cell_type": "code",
   "execution_count": 163,
   "metadata": {},
   "outputs": [
    {
     "data": {
      "text/plain": [
       "array(['3', '2', '4', '0', '1', '5', '6', '7', '9', '140', '39', '8',\n",
       "       '10', '11', '12', '32', '20'], dtype=object)"
      ]
     },
     "execution_count": 163,
     "metadata": {},
     "output_type": "execute_result"
    }
   ],
   "source": [
    "df['建物現況格局-房'].unique()"
   ]
  },
  {
   "cell_type": "code",
   "execution_count": 164,
   "metadata": {},
   "outputs": [
    {
     "data": {
      "text/plain": [
       "array(['2', '1', '0', '3', '5', '6', '4', '7', '8', '75', '23', '10', '9',\n",
       "       '30', '22'], dtype=object)"
      ]
     },
     "execution_count": 164,
     "metadata": {},
     "output_type": "execute_result"
    }
   ],
   "source": [
    "df['建物現況格局-衛'].unique()"
   ]
  },
  {
   "cell_type": "code",
   "execution_count": 165,
   "metadata": {},
   "outputs": [
    {
     "data": {
      "text/plain": [
       "1                  107.4\n",
       "36    148.95000000000002\n",
       "40                 46.08\n",
       "44                326.63\n",
       "45                 90.91\n",
       "46                102.76\n",
       "49                 99.08\n",
       "53                172.56\n",
       "54                151.28\n",
       "55                104.74\n",
       "Name: 建物移轉總面積平方公尺, dtype: object"
      ]
     },
     "execution_count": 165,
     "metadata": {},
     "output_type": "execute_result"
    }
   ],
   "source": [
    "df.建物移轉總面積平方公尺[0:10]"
   ]
  },
  {
   "cell_type": "code",
   "execution_count": 166,
   "metadata": {},
   "outputs": [
    {
     "data": {
      "text/plain": [
       "1     0701231\n",
       "36    0830530\n",
       "40        NaN\n",
       "44    0981126\n",
       "45    0710622\n",
       "46    0690515\n",
       "49    0690422\n",
       "53    0660322\n",
       "54    0690324\n",
       "55    0691024\n",
       "Name: 建築完成年月, dtype: object"
      ]
     },
     "execution_count": 166,
     "metadata": {},
     "output_type": "execute_result"
    }
   ],
   "source": [
    "df.建築完成年月[0:10]"
   ]
  },
  {
   "cell_type": "code",
   "execution_count": 167,
   "metadata": {},
   "outputs": [
    {
     "name": "stdout",
     "output_type": "stream",
     "text": [
      "unique col now: ['0701231' '0830530' 0 ... '0590217' '0860806' '0900629']\n"
     ]
    }
   ],
   "source": [
    "df = deal_special_dump_nan0(df,'建築完成年月')"
   ]
  },
  {
   "cell_type": "code",
   "execution_count": 168,
   "metadata": {},
   "outputs": [
    {
     "data": {
      "text/plain": [
       "array(['無', '有'], dtype=object)"
      ]
     },
     "execution_count": 168,
     "metadata": {},
     "output_type": "execute_result"
    }
   ],
   "source": [
    "df['有無管理組織'].unique()"
   ]
  },
  {
   "cell_type": "code",
   "execution_count": 169,
   "metadata": {},
   "outputs": [],
   "source": [
    "df[\"總樓層數\"]=df[\"總樓層數\"].astype(str)"
   ]
  },
  {
   "cell_type": "code",
   "execution_count": 170,
   "metadata": {},
   "outputs": [],
   "source": [
    "#before give_index we have to remove rows we don't want\n",
    "df.index = range(df.shape[0])"
   ]
  },
  {
   "cell_type": "code",
   "execution_count": 171,
   "metadata": {},
   "outputs": [],
   "source": [
    "#先轉總樓層數!"
   ]
  },
  {
   "cell_type": "code",
   "execution_count": 172,
   "metadata": {},
   "outputs": [],
   "source": [
    "#-*- coding: cp936 -*-\n",
    "import re\n",
    "import string\n",
    "\n",
    "digit = {'ㄧ': 1,'一': 1 ,'壹': 1, '一': 1, '二': 2, '三': 3, '四': 4, '五': 5, '六': 6, '七': 7, '八': 8, '九': 9}\n",
    "\n",
    "def _chn_to_numeric(s):\n",
    "    num = 0\n",
    "    if s:\n",
    "        if s != s:\n",
    "            s=\"null\"\n",
    "        idx_q, idx_b, idx_s, idx_f = s.find('千'), s.find('百'), s.find('十'), s.find('層')\n",
    "        if idx_q != -1:\n",
    "            num += digit[s[idx_q - 1:idx_q]] * 1000\n",
    "        if idx_b != -1:\n",
    "            num += digit[s[idx_b - 1:idx_b]] * 100\n",
    "        if idx_s != -1:\n",
    "            # 十前忽略一的处理\n",
    "            #get 如果第一個沒有值就回傳第2個\n",
    "            num += digit.get(s[idx_s - 1:idx_s], 1) * 10\n",
    "        if idx_f != -1:\n",
    "            # 十前忽略一的处理\n",
    "            if s[idx_f - 1:idx_f]!=\"十\":\n",
    "                num += digit.get(s[idx_f - 1:idx_f], 1)\n",
    "        if num == 0:\n",
    "            num = 1\n",
    "        #if s[-1] in digit:\n",
    "        #    num += digit[s[-1]]\n",
    "    return num\n",
    "\n",
    "def trans(chn):\n",
    "    chn=str(chn)\n",
    "    chn = chn.replace('零', '')\n",
    "    idx_y, idx_w = chn.rfind('億'), chn.rfind('萬')\n",
    "    if idx_w < idx_y:\n",
    "        idx_w = -1\n",
    "    num_y, num_w = 100000000, 10000\n",
    "    if idx_y != -1 and idx_w != -1:\n",
    "        return trans(chn[:idx_y]) * num_y + _chn_to_numeric(chn[idx_y + 1:idx_w]) * num_w + _chn_to_numeric(chn[idx_w + 1:])\n",
    "    elif idx_y != -1:\n",
    "        return trans(chn[:idx_y]) * num_y + _chn_to_numeric(chn[idx_y + 1:])\n",
    "    elif idx_w != -1:\n",
    "        return _chn_to_numeric(chn[:idx_w]) * num_w + _chn_to_numeric(chn[idx_w + 1:])\n",
    "    return _chn_to_numeric(chn)"
   ]
  },
  {
   "cell_type": "code",
   "execution_count": 173,
   "metadata": {},
   "outputs": [],
   "source": [
    "df[\"總樓層數2\"]=df[\"總樓層數\"].apply(trans)"
   ]
  },
  {
   "cell_type": "code",
   "execution_count": 176,
   "metadata": {},
   "outputs": [
    {
     "data": {
      "text/html": [
       "<div>\n",
       "<style scoped>\n",
       "    .dataframe tbody tr th:only-of-type {\n",
       "        vertical-align: middle;\n",
       "    }\n",
       "\n",
       "    .dataframe tbody tr th {\n",
       "        vertical-align: top;\n",
       "    }\n",
       "\n",
       "    .dataframe thead th {\n",
       "        text-align: right;\n",
       "    }\n",
       "</style>\n",
       "<table border=\"1\" class=\"dataframe\">\n",
       "  <thead>\n",
       "    <tr style=\"text-align: right;\">\n",
       "      <th></th>\n",
       "      <th>總樓層數2</th>\n",
       "      <th>總樓層數</th>\n",
       "    </tr>\n",
       "  </thead>\n",
       "  <tbody>\n",
       "    <tr>\n",
       "      <th>50</th>\n",
       "      <td>5</td>\n",
       "      <td>五層</td>\n",
       "    </tr>\n",
       "    <tr>\n",
       "      <th>51</th>\n",
       "      <td>14</td>\n",
       "      <td>十四層</td>\n",
       "    </tr>\n",
       "    <tr>\n",
       "      <th>52</th>\n",
       "      <td>15</td>\n",
       "      <td>十五層</td>\n",
       "    </tr>\n",
       "    <tr>\n",
       "      <th>53</th>\n",
       "      <td>15</td>\n",
       "      <td>十五層</td>\n",
       "    </tr>\n",
       "    <tr>\n",
       "      <th>54</th>\n",
       "      <td>15</td>\n",
       "      <td>十五層</td>\n",
       "    </tr>\n",
       "    <tr>\n",
       "      <th>55</th>\n",
       "      <td>4</td>\n",
       "      <td>四層</td>\n",
       "    </tr>\n",
       "    <tr>\n",
       "      <th>56</th>\n",
       "      <td>16</td>\n",
       "      <td>十六層</td>\n",
       "    </tr>\n",
       "    <tr>\n",
       "      <th>57</th>\n",
       "      <td>9</td>\n",
       "      <td>九層</td>\n",
       "    </tr>\n",
       "    <tr>\n",
       "      <th>58</th>\n",
       "      <td>13</td>\n",
       "      <td>十三層</td>\n",
       "    </tr>\n",
       "    <tr>\n",
       "      <th>59</th>\n",
       "      <td>5</td>\n",
       "      <td>五層</td>\n",
       "    </tr>\n",
       "    <tr>\n",
       "      <th>60</th>\n",
       "      <td>8</td>\n",
       "      <td>八層</td>\n",
       "    </tr>\n",
       "    <tr>\n",
       "      <th>61</th>\n",
       "      <td>14</td>\n",
       "      <td>十四層</td>\n",
       "    </tr>\n",
       "    <tr>\n",
       "      <th>62</th>\n",
       "      <td>4</td>\n",
       "      <td>四層</td>\n",
       "    </tr>\n",
       "    <tr>\n",
       "      <th>63</th>\n",
       "      <td>16</td>\n",
       "      <td>十六層</td>\n",
       "    </tr>\n",
       "    <tr>\n",
       "      <th>64</th>\n",
       "      <td>9</td>\n",
       "      <td>九層</td>\n",
       "    </tr>\n",
       "    <tr>\n",
       "      <th>65</th>\n",
       "      <td>11</td>\n",
       "      <td>十一層</td>\n",
       "    </tr>\n",
       "    <tr>\n",
       "      <th>66</th>\n",
       "      <td>7</td>\n",
       "      <td>七層</td>\n",
       "    </tr>\n",
       "    <tr>\n",
       "      <th>67</th>\n",
       "      <td>16</td>\n",
       "      <td>十六層</td>\n",
       "    </tr>\n",
       "    <tr>\n",
       "      <th>68</th>\n",
       "      <td>21</td>\n",
       "      <td>二十一層</td>\n",
       "    </tr>\n",
       "    <tr>\n",
       "      <th>69</th>\n",
       "      <td>4</td>\n",
       "      <td>四層</td>\n",
       "    </tr>\n",
       "  </tbody>\n",
       "</table>\n",
       "</div>"
      ],
      "text/plain": [
       "    總樓層數2  總樓層數\n",
       "50      5    五層\n",
       "51     14   十四層\n",
       "52     15   十五層\n",
       "53     15   十五層\n",
       "54     15   十五層\n",
       "55      4    四層\n",
       "56     16   十六層\n",
       "57      9    九層\n",
       "58     13   十三層\n",
       "59      5    五層\n",
       "60      8    八層\n",
       "61     14   十四層\n",
       "62      4    四層\n",
       "63     16   十六層\n",
       "64      9    九層\n",
       "65     11   十一層\n",
       "66      7    七層\n",
       "67     16   十六層\n",
       "68     21  二十一層\n",
       "69      4    四層"
      ]
     },
     "execution_count": 176,
     "metadata": {},
     "output_type": "execute_result"
    }
   ],
   "source": [
    "df[[\"總樓層數2\",\"總樓層數\"]][50:70]"
   ]
  },
  {
   "cell_type": "code",
   "execution_count": null,
   "metadata": {},
   "outputs": [],
   "source": [
    "#to there"
   ]
  },
  {
   "cell_type": "code",
   "execution_count": null,
   "metadata": {},
   "outputs": [],
   "source": [
    "def foo(t_floor,all_floor):\n",
    "    if t_floor==\"全\":\n",
    "        return range(1,all_floor+1)\n",
    "    else:\n",
    "        return t_floor\n",
    "\n",
    "df['移轉層次_2'] = df.apply(lambda x: foo(x[\"移轉層次\"], x[\"總樓層數\"]), axis=1)"
   ]
  },
  {
   "cell_type": "code",
   "execution_count": null,
   "metadata": {},
   "outputs": [],
   "source": [
    "df['移轉層次_2'][0:50]"
   ]
  },
  {
   "cell_type": "code",
   "execution_count": null,
   "metadata": {},
   "outputs": [],
   "source": [
    "def foo(t_floor,all_floor):\n",
    "    if t_floor==\"全\":\n",
    "        return range(1,all_floor+1)\n",
    "    else:\n",
    "        return t_floor\n",
    "\n",
    "df['移轉層次_2'] = df.apply(lambda x: foo(x[\"移轉層次\"], x[\"總樓層數\"]), axis=1)"
   ]
  },
  {
   "cell_type": "code",
   "execution_count": null,
   "metadata": {},
   "outputs": [],
   "source": [
    "df['移轉層次_2'][0:50]"
   ]
  },
  {
   "cell_type": "code",
   "execution_count": null,
   "metadata": {},
   "outputs": [],
   "source": [
    "#-*- coding: cp936 -*-\n",
    "import re\n",
    "import string\n",
    "import sys\n",
    "\n",
    "digit = {'ㄧ': 1,'一': 1 ,'壹': 1, '一': 1, '二': 2, '三': 3, '四': 4, '五': 5, '六': 6, '七': 7, '八': 8, '九': 9}\n",
    "\n",
    "\"\"\"要修改 沒辦法回傳多樓層\"\"\"\n",
    "def chn_to_numeric_floor(chn):\n",
    "    deli = \"層\"\n",
    "    chn_list=[]\n",
    "    if chn != chn:\n",
    "        chn=\"null\"\n",
    "    if isinstance(chn,str):\n",
    "        #for line in chn:\n",
    "        str_s =  [e+deli for e in chn.split(deli) if e]\n",
    "        for chn in str_s:    \n",
    "            idx_y, idx_w = chn.rfind('億'), chn.rfind('萬')\n",
    "            if idx_w < idx_y:\n",
    "                idx_w = -1\n",
    "            num_y, num_w = 100000000, 10000\n",
    "            if idx_y != -1 and idx_w != -1:\n",
    "                chn_list.append(chn_to_numeric_floor(chn[:idx_y]) * num_y + _chn_to_numeric(chn[idx_y + 1:idx_w]) * num_w + _chn_to_numeric(chn[idx_w + 1:]))\n",
    "            elif idx_y != -1:\n",
    "                chn_list.append(chn_to_numeric_floor(chn[:idx_y]) * num_y + _chn_to_numeric(chn[idx_y + 1:]))\n",
    "            elif idx_w != -1:\n",
    "                chn_list.append(_chn_to_numeric(chn[:idx_w]) * num_w + _chn_to_numeric(chn[idx_w + 1:]))\n",
    "            else:\n",
    "                chn_list.append(_chn_to_numeric(chn))\n",
    "        return chn_list\n",
    "    else:\n",
    "        return chn\n",
    "\n",
    "\n",
    "\n",
    "df['移轉層次_2'] = df['移轉層次_2'].apply(chn_to_numeric_floor)"
   ]
  },
  {
   "cell_type": "code",
   "execution_count": null,
   "metadata": {},
   "outputs": [],
   "source": [
    "df[['移轉層次','移轉層次_2']][0:50]"
   ]
  },
  {
   "cell_type": "code",
   "execution_count": null,
   "metadata": {},
   "outputs": [],
   "source": [
    "print(trans('五層')) \n",
    "print(trans('一層')) \n",
    "print(trans('十') == 10) \n",
    "print(trans('一百零一') == 101)\n",
    "print(trans('九百二十一') == 921)\n",
    "print(trans('五十六万零一十') == 560010)\n",
    "print(trans('一万亿零二千一百零一') == 1000000002101)\n",
    "print(trans('一万亿二千一百万零一百零一') == 1000021000101)\n",
    "print(trans('一万零二百三十亿四千零七千八百九十') == 1023000007890)"
   ]
  },
  {
   "cell_type": "code",
   "execution_count": null,
   "metadata": {},
   "outputs": [],
   "source": [
    "lis= []\n",
    "lis.append(2)\n",
    "lis.append(99)\n",
    "lis\n"
   ]
  },
  {
   "cell_type": "code",
   "execution_count": null,
   "metadata": {},
   "outputs": [],
   "source": [
    "df"
   ]
  },
  {
   "cell_type": "code",
   "execution_count": null,
   "metadata": {},
   "outputs": [],
   "source": [
    "#圖表分析\n",
    "prices = {}\n",
    "for district in set(df['鄉鎮市區']):\n",
    "    cond = (\n",
    "        (df['主要用途'] == '住家用')\n",
    "        & (df['鄉鎮市區'] == district)\n",
    "        & (df['單價元平方公尺'] < df[\"單價元平方公尺\"].quantile(0.9))\n",
    "        & (df['單價元平方公尺'] > df[\"單價元平方公尺\"].quantile(0.1))\n",
    "        )\n",
    "    \n",
    "    groups = df[cond]['year']\n",
    "    \n",
    "    prices[district] = df[cond]['單價元平方公尺'].astype(float).groupby(groups).mean().loc[2012:]\n",
    "\n",
    "prices = pd.DataFrame(prices)\n",
    "prices.head()"
   ]
  },
  {
   "cell_type": "code",
   "execution_count": null,
   "metadata": {},
   "outputs": [],
   "source": []
  },
  {
   "cell_type": "code",
   "execution_count": null,
   "metadata": {},
   "outputs": [],
   "source": [
    "prices.plot()"
   ]
  },
  {
   "cell_type": "code",
   "execution_count": null,
   "metadata": {},
   "outputs": [],
   "source": [
    "prices.mean(axis=1).plot()"
   ]
  },
  {
   "cell_type": "code",
   "execution_count": null,
   "metadata": {},
   "outputs": [],
   "source": [
    "building_type_prices = {}\n",
    "for building_type in set(df['建物型態2']):\n",
    "    cond = (\n",
    "        (df['主要用途'] == '住家用')\n",
    "        & (df['單價元平方公尺'] < df[\"單價元平方公尺\"].quantile(0.8))\n",
    "        & (df['單價元平方公尺'] > df[\"單價元平方公尺\"].quantile(0.2))\n",
    "        & (df['建物型態2'] == building_type)\n",
    "        )\n",
    "    \n",
    "    building_type_prices[building_type] = df[cond]['單價元平方公尺'].groupby(df[cond]['year']).mean().loc[2012:]\n",
    "pd.DataFrame(building_type_prices)[['公寓', '住宅大樓', '套房', '華廈']].plot()"
   ]
  },
  {
   "cell_type": "code",
   "execution_count": null,
   "metadata": {},
   "outputs": [],
   "source": [
    "for district in set(df['鄉鎮市區']):\n",
    "  dfdistrict = df[df['鄉鎮市區'] == district]\n",
    "  dfdistrict['單價元平方公尺'][dfdistrict['單價元平方公尺'] < 1000000].hist(bins=100, alpha=0.7)\n",
    "\n",
    "plt.xlim(0, 1000000)"
   ]
  },
  {
   "cell_type": "code",
   "execution_count": null,
   "metadata": {},
   "outputs": [],
   "source": [
    "#以上參考https://www.finlab.tw/"
   ]
  },
  {
   "cell_type": "code",
   "execution_count": null,
   "metadata": {},
   "outputs": [],
   "source": []
  }
 ],
 "metadata": {
  "kernelspec": {
   "display_name": "Python 3",
   "language": "python",
   "name": "python3"
  },
  "language_info": {
   "codemirror_mode": {
    "name": "ipython",
    "version": 3
   },
   "file_extension": ".py",
   "mimetype": "text/x-python",
   "name": "python",
   "nbconvert_exporter": "python",
   "pygments_lexer": "ipython3",
   "version": "3.6.5"
  }
 },
 "nbformat": 4,
 "nbformat_minor": 2
}
