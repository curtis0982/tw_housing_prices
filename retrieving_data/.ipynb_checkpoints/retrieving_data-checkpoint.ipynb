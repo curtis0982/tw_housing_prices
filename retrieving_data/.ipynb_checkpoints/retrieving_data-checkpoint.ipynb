{
 "cells": [
  {
   "cell_type": "code",
   "execution_count": 330,
   "metadata": {},
   "outputs": [
    {
     "data": {
      "text/plain": [
       "'\\ndef real_estate_crawler(year, season):\\n  if year > 1000:\\n    year -= 1911\\n\\n  # download real estate zip file\\n  res = requests.get(\"https://plvr.land.moi.gov.tw//DownloadSeason?season=\"+str(year)+\"S\"+str(season)+\"&type=zip&fileName=lvr_landcsv.zip\")\\n\\n  # save content to file\\n  fname = str(year)+str(season)+\\'.zip\\'\\n  open(fname, \\'wb\\').write(res.content)\\n\\n  # make additional folder for files to extract\\n  folder = \\'real_estate\\' + str(year) + str(season)\\n  if not os.path.isdir(folder):\\n    os.mkdir(folder)\\n\\n  # extract files to the folder\\n  with zipfile.ZipFile(fname, \\'r\\') as zip_ref:\\n    zip_ref.extractall(folder)\\n\\n  time.sleep(10)\\n\\nreal_estate_crawler(101, 3)\\nreal_estate_crawler(101, 4)\\n\\nfor year in range(102, 108):\\n  for season in range(1,5):\\n    print(year, season)\\n    real_estate_crawler(year, season)\\n\\nreal_estate_crawler(108, 1)\\nreal_estate_crawler(108, 2)\\n'"
      ]
     },
     "execution_count": 330,
     "metadata": {},
     "output_type": "execute_result"
    }
   ],
   "source": [
    "#此段下載資料，如果沒有要下載勿重複使用\n",
    "\"\"\"\n",
    "def real_estate_crawler(year, season):\n",
    "  if year > 1000:\n",
    "    year -= 1911\n",
    "\n",
    "  # download real estate zip file\n",
    "  res = requests.get(\"https://plvr.land.moi.gov.tw//DownloadSeason?season=\"+str(year)+\"S\"+str(season)+\"&type=zip&fileName=lvr_landcsv.zip\")\n",
    "\n",
    "  # save content to file\n",
    "  fname = str(year)+str(season)+'.zip'\n",
    "  open(fname, 'wb').write(res.content)\n",
    "\n",
    "  # make additional folder for files to extract\n",
    "  folder = 'real_estate' + str(year) + str(season)\n",
    "  if not os.path.isdir(folder):\n",
    "    os.mkdir(folder)\n",
    "\n",
    "  # extract files to the folder\n",
    "  with zipfile.ZipFile(fname, 'r') as zip_ref:\n",
    "    zip_ref.extractall(folder)\n",
    "\n",
    "  time.sleep(10)\n",
    "\n",
    "real_estate_crawler(101, 3)\n",
    "real_estate_crawler(101, 4)\n",
    "\n",
    "for year in range(102, 108):\n",
    "  for season in range(1,5):\n",
    "    print(year, season)\n",
    "    real_estate_crawler(year, season)\n",
    "\n",
    "real_estate_crawler(108, 1)\n",
    "real_estate_crawler(108, 2)\n",
    "\"\"\""
   ]
  },
  {
   "cell_type": "code",
   "execution_count": 331,
   "metadata": {},
   "outputs": [],
   "source": [
    "#爬取了實價登入所有歷史數據\n",
    "import requests\n",
    "import os\n",
    "import zipfile\n",
    "import time\n",
    "from datetime import datetime"
   ]
  },
  {
   "cell_type": "code",
   "execution_count": 332,
   "metadata": {},
   "outputs": [
    {
     "data": {
      "text/plain": [
       "\"'公寓(5樓含以下無電梯)', '透天厝', '套房(1房1廳1衛)', '住宅大樓(11層含以上有電梯)',\\n       '華廈(10層含以下有電梯)',\""
      ]
     },
     "execution_count": 332,
     "metadata": {},
     "output_type": "execute_result"
    }
   ],
   "source": [
    "\"\"\"'公寓(5樓含以下無電梯)', '透天厝', '套房(1房1廳1衛)', '住宅大樓(11層含以上有電梯)',\n",
    "       '華廈(10層含以下有電梯)',\"\"\""
   ]
  },
  {
   "cell_type": "code",
   "execution_count": 333,
   "metadata": {},
   "outputs": [
    {
     "data": {
      "text/plain": [
       "'x_lvr_land_a：房屋買賣交易\\nx_lvr_land_b：新成屋交易\\nx_lvr_land_c：租房交易\\n'"
      ]
     },
     "execution_count": 333,
     "metadata": {},
     "output_type": "execute_result"
    }
   ],
   "source": [
    "\"\"\"x_lvr_land_a：房屋買賣交易\n",
    "x_lvr_land_b：新成屋交易\n",
    "x_lvr_land_c：租房交易\n",
    "\"\"\""
   ]
  },
  {
   "cell_type": "code",
   "execution_count": 334,
   "metadata": {},
   "outputs": [
    {
     "name": "stdout",
     "output_type": "stream",
     "text": [
      "real_estate1051\n",
      "real_estate1052\n",
      "real_estate1053\n",
      "real_estate1054\n",
      "real_estate1061\n",
      "real_estate1062\n",
      "real_estate1063\n",
      "real_estate1064\n",
      "real_estate1071\n",
      "real_estate1072\n",
      "real_estate1073\n",
      "real_estate1074\n",
      "real_estate1081\n",
      "real_estate1082\n"
     ]
    }
   ],
   "source": [
    "#本案例只對二手房市做預測\n",
    "import os\n",
    "import pandas as pd\n",
    "import numpy as np\n",
    "import math\n",
    "dirs = [d for d in os.listdir() if d[:4] == 'real' and int(d[11:14]) >=105 ]\n",
    "\n",
    "dfs = []\n",
    "\n",
    "for d in dirs:\n",
    "    print(d)\n",
    "\n",
    "    df = pd.read_csv(os.path.join(d,'a_lvr_land_a.csv'), index_col=False)\n",
    "    df['Q'] = d[-1]\n",
    "    dfs.append(df.iloc[1:])\n",
    "    \n",
    "df = pd.concat(dfs, sort=True)"
   ]
  },
  {
   "cell_type": "code",
   "execution_count": 335,
   "metadata": {},
   "outputs": [],
   "source": [
    "df = df.reset_index(drop=True)"
   ]
  },
  {
   "cell_type": "code",
   "execution_count": 336,
   "metadata": {},
   "outputs": [],
   "source": [
    "#資訊還必須再經過處理，才會讓我們待會的資料分析更好下手"
   ]
  },
  {
   "cell_type": "code",
   "execution_count": 337,
   "metadata": {},
   "outputs": [],
   "source": [
    "def process(df):\n",
    "  df['year'] = df['交易年月日'].str[:-4].astype(int) + 1911\n",
    "  df['month'] = df['交易年月日'].str[-4:-2].astype(int)\n",
    "  df['day'] = df['交易年月日'].str[-2:].astype(int)\n",
    "  # 不同名稱同項目資料合併\n",
    "  df['單價元/平方公尺'].fillna(df['單價元/平方公尺'], inplace=True)\n",
    "  df.drop(columns='單價元/平方公尺')\n",
    "  # 平方公尺換成坪\n",
    "  df['單價元/平方公尺'] = df['單價元/平方公尺'].astype(float)\n",
    "  df['建物型態2'] = df['建物型態'].str.split('(').str[0]\n",
    "  # 刪除有備註之交易（多為親友交易、價格不正常之交易）\n",
    "  df = df[df['備註'].isnull()]\n",
    "\n",
    "  df.index = pd.to_datetime((df['交易年月日'].str[:-4].astype(int) + 1911).astype(str) + df['交易年月日'].str[-4:] ,errors='coerce')\n",
    "\n",
    "\n",
    "process(df)"
   ]
  },
  {
   "cell_type": "code",
   "execution_count": 338,
   "metadata": {},
   "outputs": [
    {
     "data": {
      "text/plain": [
       "'\\nset:集合\\n集合（set）是一个无序的不重复元素序列。\\n\\n可以使用大括号 { } 或者 set() 函数创建集合，\\n注意：创建一个空集合必须用 set() 而不是 { }，因为 { } 是用来创建一个空字典。\\n'"
      ]
     },
     "execution_count": 338,
     "metadata": {},
     "output_type": "execute_result"
    }
   ],
   "source": [
    "\"\"\"\n",
    "set:集合\n",
    "集合（set）是一个无序的不重复元素序列。\n",
    "\n",
    "可以使用大括号 { } 或者 set() 函数创建集合，\n",
    "注意：创建一个空集合必须用 set() 而不是 { }，因为 { } 是用来创建一个空字典。\n",
    "\"\"\""
   ]
  },
  {
   "cell_type": "code",
   "execution_count": 339,
   "metadata": {},
   "outputs": [],
   "source": [
    "#篩選建物型態\n",
    "df=df[df[\"建物型態\"].isin(['公寓(5樓含以下無電梯)',  '套房(1房1廳1衛)', '住宅大樓(11層含以上有電梯)','華廈(10層含以下有電梯)'])]"
   ]
  },
  {
   "cell_type": "code",
   "execution_count": 340,
   "metadata": {},
   "outputs": [
    {
     "data": {
      "text/plain": [
       "array(['公寓(5樓含以下無電梯)', '套房(1房1廳1衛)', '住宅大樓(11層含以上有電梯)', '華廈(10層含以下有電梯)'],\n",
       "      dtype=object)"
      ]
     },
     "execution_count": 340,
     "metadata": {},
     "output_type": "execute_result"
    }
   ],
   "source": [
    "#check\n",
    "df[\"建物型態\"].unique()"
   ]
  },
  {
   "cell_type": "code",
   "execution_count": 341,
   "metadata": {},
   "outputs": [
    {
     "data": {
      "text/plain": [
       "{'中山區',\n",
       " '中正區',\n",
       " '信義區',\n",
       " '內湖區',\n",
       " '北投區',\n",
       " '南港區',\n",
       " '士林區',\n",
       " '大同區',\n",
       " '大安區',\n",
       " '文山區',\n",
       " '松山區',\n",
       " '萬華區'}"
      ]
     },
     "execution_count": 341,
     "metadata": {},
     "output_type": "execute_result"
    }
   ],
   "source": [
    "set(df['鄉鎮市區'])"
   ]
  },
  {
   "cell_type": "code",
   "execution_count": 342,
   "metadata": {},
   "outputs": [
    {
     "data": {
      "text/plain": [
       "Index(['Q', '主要建材', '主要用途', '交易年月日', '交易標的', '交易筆棟數', '備註', '單價元/平方公尺',\n",
       "       '單價元平方公尺', '土地區段位置/建物區段門牌', '土地區段位置建物區段門牌', '土地移轉總面積平方公尺', '建物型態',\n",
       "       '建物現況格局-廳', '建物現況格局-房', '建物現況格局-衛', '建物現況格局-隔間', '建物移轉總面積平方公尺',\n",
       "       '建築完成年月', '有無管理組織', '移轉層次', '編號', '總價元', '總樓層數', '車位移轉總面積平方公尺', '車位總價元',\n",
       "       '車位類別', '都市土地使用分區', '鄉鎮市區', '非都市土地使用分區', '非都市土地使用編定', 'year', 'month',\n",
       "       'day', '建物型態2'],\n",
       "      dtype='object')"
      ]
     },
     "execution_count": 342,
     "metadata": {},
     "output_type": "execute_result"
    }
   ],
   "source": [
    "df.columns"
   ]
  },
  {
   "cell_type": "code",
   "execution_count": 343,
   "metadata": {},
   "outputs": [
    {
     "data": {
      "text/plain": [
       "array(['鋼筋混凝土造', '加強磚造', '見其他登記事項', '鋼骨鋼筋混凝土造', '磚造', '見使用執照', nan,\n",
       "       '鋼骨混凝土造', '預力混凝土造', '壁式預鑄鋼筋混凝土造', '鋼筋混凝土加強磚造', '土磚石混合造', '木造',\n",
       "       '鋼造'], dtype=object)"
      ]
     },
     "execution_count": 343,
     "metadata": {},
     "output_type": "execute_result"
    }
   ],
   "source": [
    "df.主要建材.unique()"
   ]
  },
  {
   "cell_type": "code",
   "execution_count": 344,
   "metadata": {},
   "outputs": [],
   "source": [
    "try:\n",
    "    special_material = ['見其他登記事項','見使用執照', nan]\n",
    "except:\n",
    "    special_material = []"
   ]
  },
  {
   "cell_type": "code",
   "execution_count": 345,
   "metadata": {},
   "outputs": [
    {
     "data": {
      "text/plain": [
       "[]"
      ]
     },
     "execution_count": 345,
     "metadata": {},
     "output_type": "execute_result"
    }
   ],
   "source": [
    "#可以發現nan無法直接進入list，所以isin沒辦法處理nan\n",
    "special_material"
   ]
  },
  {
   "cell_type": "code",
   "execution_count": null,
   "metadata": {},
   "outputs": [],
   "source": [
    "\n"
   ]
  },
  {
   "cell_type": "code",
   "execution_count": 346,
   "metadata": {},
   "outputs": [],
   "source": [
    "def deal_special_dump(df,col,specialcategory):\n",
    "    specialcategory.append('NaN')\n",
    "    df[col].replace(pd.np.nan,'NaN',inplace=True)\n",
    "    df=df[~df[col].isin(specialcategory)]\n",
    "    print(\"unique col now:\",df[col].unique())\n",
    "    return df\n",
    "\n",
    "def deal_special_dump_nan0(df,col,specialcategory=[]):\n",
    "    if df[col].iloc[0].isdigit() is True:\n",
    "        df[col].replace(pd.np.nan,0,inplace=True)\n",
    "    else:\n",
    "        df[col].replace(pd.np.nan,'NaN',inplace=True)\n",
    "    df=df[~df[col].isin(specialcategory)]\n",
    "    print(\"unique col now:\",df[col].unique())\n",
    "    return df\n",
    "\n",
    "def deal_positive_cat(df,col,specialcategory):\n",
    "    df=df[df[col].isin(specialcategory)]\n",
    "    print(\"unique col now:\",df[col].unique())\n",
    "    return df\n",
    "\n",
    "def deal_positive_contain(df,col,specialcategory):\n",
    "    df[col].replace(pd.np.nan,'NaN',inplace=True)\n",
    "    df=df[df[col].str.contains('|'.join(specialcategory))]\n",
    "    return df\n",
    "\n",
    "def deal_positive_contain(df,col,specialcategory):\n",
    "    #df[col].replace(pd.np.nan,'NaN',inplace=True)\n",
    "    df=df[df[col].str.contains('|'.join(specialcategory))]\n",
    "    return df\n",
    "def deal_negative_contain(df,col,specialcategory):\n",
    "    df[col].replace(pd.np.nan,'NaN',inplace=True)\n",
    "    specialcategory.append('NaN')\n",
    "    df=df[~df[col].str.contains('|'.join(specialcategory))]\n",
    "    return df"
   ]
  },
  {
   "cell_type": "code",
   "execution_count": 347,
   "metadata": {},
   "outputs": [
    {
     "data": {
      "text/plain": [
       "array(['鋼筋混凝土造', '加強磚造', '見其他登記事項', '鋼骨鋼筋混凝土造', '磚造', '見使用執照', nan,\n",
       "       '鋼骨混凝土造', '預力混凝土造', '壁式預鑄鋼筋混凝土造', '鋼筋混凝土加強磚造', '土磚石混合造', '木造',\n",
       "       '鋼造'], dtype=object)"
      ]
     },
     "execution_count": 347,
     "metadata": {},
     "output_type": "execute_result"
    }
   ],
   "source": [
    "df.主要建材.unique()"
   ]
  },
  {
   "cell_type": "code",
   "execution_count": 348,
   "metadata": {},
   "outputs": [
    {
     "name": "stdout",
     "output_type": "stream",
     "text": [
      "unique col now: ['鋼筋混凝土造' '加強磚造' '鋼骨鋼筋混凝土造' '磚造' '鋼骨混凝土造' '預力混凝土造' '壁式預鑄鋼筋混凝土造'\n",
      " '鋼筋混凝土加強磚造' '土磚石混合造' '木造' '鋼造']\n"
     ]
    }
   ],
   "source": [
    "df=deal_special_dump(df,\"主要建材\",['見使用執照', '見其他登記事項'])"
   ]
  },
  {
   "cell_type": "code",
   "execution_count": 349,
   "metadata": {},
   "outputs": [
    {
     "data": {
      "text/plain": [
       "array(['住家用', '商業用', '見使用執照', '見其他登記事項', nan, '住商用', '工業用', '住工用', '停車空間',\n",
       "       '工商用', '國民住宅'], dtype=object)"
      ]
     },
     "execution_count": 349,
     "metadata": {},
     "output_type": "execute_result"
    }
   ],
   "source": [
    "df.主要用途.unique()"
   ]
  },
  {
   "cell_type": "code",
   "execution_count": 350,
   "metadata": {},
   "outputs": [
    {
     "data": {
      "text/plain": [
       "'住家用'"
      ]
     },
     "execution_count": 350,
     "metadata": {},
     "output_type": "execute_result"
    }
   ],
   "source": [
    "df['主要用途'].iloc[0]"
   ]
  },
  {
   "cell_type": "code",
   "execution_count": 351,
   "metadata": {},
   "outputs": [
    {
     "name": "stdout",
     "output_type": "stream",
     "text": [
      "unique col now: ['住家用' '商業用' '住商用' '工業用' '住工用' '停車空間' '工商用' '國民住宅']\n"
     ]
    }
   ],
   "source": [
    "df=deal_special_dump(df,\"主要用途\",['見使用執照', '見其他登記事項'])"
   ]
  },
  {
   "cell_type": "code",
   "execution_count": 352,
   "metadata": {},
   "outputs": [
    {
     "data": {
      "text/plain": [
       "array(['房地(土地+建物)', '房地(土地+建物)+車位', '建物'], dtype=object)"
      ]
     },
     "execution_count": 352,
     "metadata": {},
     "output_type": "execute_result"
    }
   ],
   "source": [
    "df.交易標的.unique()"
   ]
  },
  {
   "cell_type": "code",
   "execution_count": 353,
   "metadata": {},
   "outputs": [
    {
     "data": {
      "text/plain": [
       "0        1041005\n",
       "32       1041003\n",
       "33       1040921\n",
       "34       1041007\n",
       "35       1040925\n",
       "36       1041012\n",
       "37       1040902\n",
       "39       1041020\n",
       "40       1040916\n",
       "41       1041003\n",
       "42       1040927\n",
       "43       1040823\n",
       "44       1041006\n",
       "45       1040918\n",
       "47       1041020\n",
       "48       1041018\n",
       "49       1040827\n",
       "52       1041019\n",
       "53       1041016\n",
       "54       1041012\n",
       "55       1041008\n",
       "60       1040922\n",
       "61       1041006\n",
       "62       1000224\n",
       "63       1040912\n",
       "64       1041020\n",
       "66       1041014\n",
       "67       1041008\n",
       "68       1020430\n",
       "69       1041013\n",
       "          ...   \n",
       "74656    1080501\n",
       "74658    1080406\n",
       "74659    1080401\n",
       "74660    1080225\n",
       "74661    1071207\n",
       "74662    1080401\n",
       "74663    1080323\n",
       "74664    1080405\n",
       "74665    1071029\n",
       "74666    1080312\n",
       "74669    1080412\n",
       "74672    1080408\n",
       "74673    1080326\n",
       "74674    1080413\n",
       "74675    1080331\n",
       "74676    1080418\n",
       "74678    1080408\n",
       "74679    1080227\n",
       "74683    1080429\n",
       "74684    1080422\n",
       "74685    1080328\n",
       "74686    1080328\n",
       "74687    1080115\n",
       "74688    1080410\n",
       "74690    1060422\n",
       "74691    1080410\n",
       "74693    1080330\n",
       "74696    1080218\n",
       "74697    1080422\n",
       "74698    1080403\n",
       "Name: 交易年月日, Length: 46636, dtype: object"
      ]
     },
     "execution_count": 353,
     "metadata": {},
     "output_type": "execute_result"
    }
   ],
   "source": [
    "df.交易年月日"
   ]
  },
  {
   "cell_type": "code",
   "execution_count": 354,
   "metadata": {},
   "outputs": [
    {
     "data": {
      "text/plain": [
       "0        2015\n",
       "32       2015\n",
       "33       2015\n",
       "34       2015\n",
       "35       2015\n",
       "36       2015\n",
       "37       2015\n",
       "39       2015\n",
       "40       2015\n",
       "41       2015\n",
       "42       2015\n",
       "43       2015\n",
       "44       2015\n",
       "45       2015\n",
       "47       2015\n",
       "48       2015\n",
       "49       2015\n",
       "52       2015\n",
       "53       2015\n",
       "54       2015\n",
       "55       2015\n",
       "60       2015\n",
       "61       2015\n",
       "62       2011\n",
       "63       2015\n",
       "64       2015\n",
       "66       2015\n",
       "67       2015\n",
       "68       2013\n",
       "69       2015\n",
       "         ... \n",
       "74656    2019\n",
       "74658    2019\n",
       "74659    2019\n",
       "74660    2019\n",
       "74661    2018\n",
       "74662    2019\n",
       "74663    2019\n",
       "74664    2019\n",
       "74665    2018\n",
       "74666    2019\n",
       "74669    2019\n",
       "74672    2019\n",
       "74673    2019\n",
       "74674    2019\n",
       "74675    2019\n",
       "74676    2019\n",
       "74678    2019\n",
       "74679    2019\n",
       "74683    2019\n",
       "74684    2019\n",
       "74685    2019\n",
       "74686    2019\n",
       "74687    2019\n",
       "74688    2019\n",
       "74690    2017\n",
       "74691    2019\n",
       "74693    2019\n",
       "74696    2019\n",
       "74697    2019\n",
       "74698    2019\n",
       "Name: year, Length: 46636, dtype: int32"
      ]
     },
     "execution_count": 354,
     "metadata": {},
     "output_type": "execute_result"
    }
   ],
   "source": [
    "df.year"
   ]
  },
  {
   "cell_type": "code",
   "execution_count": 355,
   "metadata": {},
   "outputs": [
    {
     "name": "stdout",
     "output_type": "stream",
     "text": [
      "unique col now: [2015 2016 2017 2018 2019]\n"
     ]
    }
   ],
   "source": [
    "df = deal_positive_cat(df,\"year\",[2015,2016,2017,2018,2019])\n"
   ]
  },
  {
   "cell_type": "code",
   "execution_count": 356,
   "metadata": {},
   "outputs": [
    {
     "data": {
      "text/plain": [
       "array(['房地(土地+建物)', '房地(土地+建物)+車位', '建物'], dtype=object)"
      ]
     },
     "execution_count": 356,
     "metadata": {},
     "output_type": "execute_result"
    }
   ],
   "source": [
    "#要修改\n",
    "df.交易標的.unique()"
   ]
  },
  {
   "cell_type": "code",
   "execution_count": 357,
   "metadata": {},
   "outputs": [
    {
     "data": {
      "text/plain": [
       "array(['土地1建物1車位0', '土地2建物1車位0', '土地1建物1車位1', '土地5建物1車位0', '土地1建物1車位2',\n",
       "       '土地6建物1車位0', '土地3建物1車位1', '土地1建物2車位1', '土地2建物1車位1', '土地3建物1車位0',\n",
       "       '土地5建物2車位1', '土地2建物1車位2', '土地4建物1車位0', '土地1建物1車位4', '土地1建物2車位0',\n",
       "       '土地7建物1車位0', '土地0建物1車位1', '土地2建物2車位1', '土地0建物1車位0', '土地1建物2車位2',\n",
       "       '土地8建物1車位0', '土地3建物3車位0', '土地1建物1車位3', '土地2建物2車位2', '土地2建物2車位0',\n",
       "       '土地11建物1車位0', '土地2建物1車位4', '土地0建物1車位3', '土地3建物1車位2', '土地1建物3車位0',\n",
       "       '土地2建物3車位1', '土地4建物1車位1', '土地1建物6車位4', '土地4建物1車位2', '土地0建物2車位0',\n",
       "       '土地5建物1車位1', '土地2建物1車位3', '土地1建物1車位6', '土地1建物11車位0', '土地1建物5車位0',\n",
       "       '土地1建物4車位0', '土地1建物12車位0', '土地4建物2車位0', '土地0建物1車位4', '土地10建物1車位0',\n",
       "       '土地16建物1車位1', '土地3建物2車位0', '土地2建物42車位0', '土地2建物12車位0', '土地2建物1車位5',\n",
       "       '土地2建物3車位0', '土地0建物1車位2', '土地3建物1車位3', '土地2建物3車位2', '土地1建物1車位5',\n",
       "       '土地13建物1車位0', '土地1建物2車位4', '土地2建物4車位0', '土地4建物2車位1', '土地0建物2車位2',\n",
       "       '土地1建物3車位3', '土地2建物2車位3', '土地0建物3車位0', '土地1建物2車位6', '土地1建物2車位5',\n",
       "       '土地2建物5車位3', '土地1建物3車位4', '土地12建物1車位0', '土地0建物4車位0', '土地9建物1車位0',\n",
       "       '土地2建物5車位0', '土地1建物1車位10', '土地3建物2車位2', '土地3建物1車位6', '土地3建物6車位1',\n",
       "       '土地6建物1車位1', '土地3建物1車位4', '土地2建物4車位4', '土地1建物2車位3', '土地1建物3車位2',\n",
       "       '土地15建物1車位0', '土地6建物3車位0', '土地1建物1車位33', '土地3建物1車位5', '土地14建物1車位0',\n",
       "       '土地3建物2車位1', '土地0建物13車位16', '土地1建物3車位1', '土地0建物2車位4', '土地1建物8車位0',\n",
       "       '土地28建物1車位0', '土地8建物1車位1', '土地13建物1車位1', '土地2建物6車位0', '土地1建物6車位12',\n",
       "       '土地1建物7車位18', '土地5建物1車位2', '土地1建物2車位8', '土地1建物4車位7', '土地1建物4車位1',\n",
       "       '土地0建物2車位1', '土地1建物3車位6', '土地1建物10車位10', '土地2建物8車位5', '土地3建物4車位0',\n",
       "       '土地8建物2車位0', '土地6建物1車位2', '土地4建物3車位0', '土地7建物2車位1', '土地5建物2車位0',\n",
       "       '土地18建物2車位0', '土地4建物2車位3', '土地8建物2車位1', '土地17建物1車位1', '土地5建物3車位0',\n",
       "       '土地2建物2車位5', '土地1建物4車位4', '土地10建物2車位0', '土地7建物1車位1', '土地18建物1車位1',\n",
       "       '土地1建物4車位2', '土地3建物5車位0', '土地9建物1車位1', '土地13建物2車位0', '土地1建物12車位12',\n",
       "       '土地3建物2車位3', '土地2建物1車位6', '土地1建物9車位16', '土地1建物5車位5', '土地3建物3車位1',\n",
       "       '土地1建物7車位1', '土地1建物1車位86', '土地2建物1車位7', '土地2建物1車位8', '土地11建物2車位2',\n",
       "       '土地4建物1車位12', '土地5建物3車位2', '土地2建物8車位10', '土地2建物9車位0', '土地2建物2車位4',\n",
       "       '土地3建物5車位1', '土地1建物1車位22', '土地1建物6車位0', '土地1建物1車位8', '土地1建物30車位0',\n",
       "       '土地2建物3車位5', '土地9建物2車位0', '土地1建物1車位7', '土地1建物5車位8', '土地2建物10車位0',\n",
       "       '土地1建物1車位9', '土地1建物4車位5', '土地1建物10車位0', '土地0建物8車位0'], dtype=object)"
      ]
     },
     "execution_count": 357,
     "metadata": {},
     "output_type": "execute_result"
    }
   ],
   "source": [
    "df.交易筆棟數.unique()"
   ]
  },
  {
   "cell_type": "code",
   "execution_count": 358,
   "metadata": {},
   "outputs": [],
   "source": [
    "df = df[df['備註'].isnull()]"
   ]
  },
  {
   "cell_type": "code",
   "execution_count": 359,
   "metadata": {},
   "outputs": [
    {
     "data": {
      "text/plain": [
       "355         臺北市內湖區陽光街161巷1弄1~30號\n",
       "357          臺北市內湖區成功路二段361~390號\n",
       "360         臺北市中山區南京東路一段13巷1~30號\n",
       "361           臺北市中山區建國北路一段31~60號\n",
       "365               臺北市中正區泰安街1~30號\n",
       "369            臺北市大同區重慶北路一段1~30號\n",
       "372       臺北市文山區興隆路四段58巷26弄1~30號\n",
       "374            臺北市文山區興德路20巷1~30號\n",
       "387            臺北市中正區?門街121~150號\n",
       "389         臺北市文山區木新路三段95巷31~60號\n",
       "391        臺北市萬華區和平西路三段298巷1~30號\n",
       "402    臺北市內湖區民權東路六段280巷69弄61~90號\n",
       "403        臺北市中山區新生北路二段60巷31~60號\n",
       "409         臺北市中山區中山北路二段16巷1~30號\n",
       "410     臺北市內湖區民權東路六段180巷121~150號\n",
       "412               臺北市內湖區金湖路1~30號\n",
       "414           臺北市南港區福德街310巷1~30號\n",
       "415         臺北市信義區和平東路三段211~240號\n",
       "418            臺北市松山區延吉街46巷1~30號\n",
       "419             臺北市信義區松隆路9巷1~30號\n",
       "425        臺北市士林區德行東路74巷15弄1~30號\n",
       "426              臺北市士林區菁山路61~90號\n",
       "427              臺北市士林區菁山路61~90號\n",
       "428          臺北市北投區大度路三段271~300號\n",
       "429          臺北市北投區石牌路一段58巷1~30號\n",
       "432        臺北市士林區延平北路六段392巷1~30號\n",
       "434          臺北市北投區東華街一段361~390號\n",
       "435          臺北市北投區東華街一段361~390號\n",
       "436          臺北市北投區東華街一段361~390號\n",
       "437              臺北市北投區中山路31~60號\n",
       "                 ...            \n",
       "538           臺北市大同區歸綏街160巷1~30號\n",
       "542             臺北市文山區萬寧街2巷1~30號\n",
       "548         臺北市文山區羅斯福路四段211~240號\n",
       "551              臺北市文山區試院路31~60號\n",
       "556           臺北市大同區延平北路一段31~60號\n",
       "559           臺北市萬華區環河南路一段61~90號\n",
       "563             臺北市內湖區環山路三段1~30號\n",
       "565            臺北市中山區新生北路三段1~30號\n",
       "566           臺北市中山區林森北路571~600號\n",
       "568            臺北市中山區中山北路三段1~30號\n",
       "570            臺北市中山區建國北路二段1~30號\n",
       "573         臺北市內湖區文德路66巷32弄1~30號\n",
       "574        臺北市中山區新生北路二段62巷31~60號\n",
       "575         臺北市中山區林森北路119巷61~90號\n",
       "579             臺北市中山區雙城街3巷1~30號\n",
       "580        臺北市中山區堤頂大道二段246巷1~30號\n",
       "581           臺北市中山區復興北路151~180號\n",
       "584          臺北市南港區合順街8巷7弄31~60號\n",
       "587       臺北市松山區八德路三段12巷17弄1~30號\n",
       "590              臺北市信義區永吉路61~90號\n",
       "593             臺北市信義區松勤街91~120號\n",
       "594       臺北市信義區吳興街600巷76弄61~90號\n",
       "598        臺北市北投區知行路316巷20弄1~30號\n",
       "605            臺北市北投區榮華一路2巷1~30號\n",
       "606              臺北市北投區開明街31~60號\n",
       "607              臺北市士林區天母西路1~30號\n",
       "642            臺北市士林區社正路17巷1~30號\n",
       "643        臺北市松山區南京東路五段286巷1~30號\n",
       "652            臺北市大安區師大路121~150號\n",
       "653          臺北市文山區福興路63巷4弄1~30號\n",
       "Name: 土地區段位置/建物區段門牌, Length: 100, dtype: object"
      ]
     },
     "execution_count": 359,
     "metadata": {},
     "output_type": "execute_result"
    }
   ],
   "source": [
    "df['土地區段位置/建物區段門牌'][100:200]"
   ]
  },
  {
   "cell_type": "code",
   "execution_count": 360,
   "metadata": {},
   "outputs": [
    {
     "data": {
      "text/plain": [
       "array(['25.44', '39.2', '12.4', ..., '62.19', '16.68', '99.47'],\n",
       "      dtype=object)"
      ]
     },
     "execution_count": 360,
     "metadata": {},
     "output_type": "execute_result"
    }
   ],
   "source": [
    "df.土地移轉總面積平方公尺.unique()"
   ]
  },
  {
   "cell_type": "code",
   "execution_count": 411,
   "metadata": {},
   "outputs": [],
   "source": [
    "df.土地移轉總面積平方公尺 = df.土地移轉總面積平方公尺.astype(float)"
   ]
  },
  {
   "cell_type": "code",
   "execution_count": 361,
   "metadata": {},
   "outputs": [
    {
     "data": {
      "text/plain": [
       "array(['公寓(5樓含以下無電梯)', '華廈(10層含以下有電梯)', '住宅大樓(11層含以上有電梯)', '套房(1房1廳1衛)'],\n",
       "      dtype=object)"
      ]
     },
     "execution_count": 361,
     "metadata": {},
     "output_type": "execute_result"
    }
   ],
   "source": [
    "df.建物型態.unique()"
   ]
  },
  {
   "cell_type": "code",
   "execution_count": 362,
   "metadata": {},
   "outputs": [
    {
     "data": {
      "text/plain": [
       "array(['2', '1', '0', '3', '6', '4', '9', '80', '24', '5', '7', '8', '10'],\n",
       "      dtype=object)"
      ]
     },
     "execution_count": 362,
     "metadata": {},
     "output_type": "execute_result"
    }
   ],
   "source": [
    "df['建物現況格局-廳'].unique()"
   ]
  },
  {
   "cell_type": "code",
   "execution_count": 412,
   "metadata": {},
   "outputs": [],
   "source": [
    "df['建物現況格局-廳']=df['建物現況格局-廳'].astype(int)"
   ]
  },
  {
   "cell_type": "code",
   "execution_count": 363,
   "metadata": {},
   "outputs": [
    {
     "data": {
      "text/plain": [
       "array(['3', '2', '4', '0', '1', '5', '6', '7', '9', '140', '39', '8',\n",
       "       '10', '11', '12', '32', '20'], dtype=object)"
      ]
     },
     "execution_count": 363,
     "metadata": {},
     "output_type": "execute_result"
    }
   ],
   "source": [
    "df['建物現況格局-房'].unique()"
   ]
  },
  {
   "cell_type": "code",
   "execution_count": null,
   "metadata": {},
   "outputs": [],
   "source": [
    "df['建物現況格局-房']=df['建物現況格局-房'].astype(int)"
   ]
  },
  {
   "cell_type": "code",
   "execution_count": 364,
   "metadata": {},
   "outputs": [
    {
     "data": {
      "text/plain": [
       "array(['2', '1', '0', '3', '5', '6', '4', '7', '8', '75', '23', '10', '9',\n",
       "       '30', '22'], dtype=object)"
      ]
     },
     "execution_count": 364,
     "metadata": {},
     "output_type": "execute_result"
    }
   ],
   "source": [
    "df['建物現況格局-衛'].unique()"
   ]
  },
  {
   "cell_type": "code",
   "execution_count": 413,
   "metadata": {},
   "outputs": [],
   "source": [
    "df['建物現況格局-衛']=df['建物現況格局-衛'].astype(int)"
   ]
  },
  {
   "cell_type": "code",
   "execution_count": 414,
   "metadata": {},
   "outputs": [
    {
     "data": {
      "text/plain": [
       "0     107.40\n",
       "35    148.95\n",
       "39     46.08\n",
       "43    326.63\n",
       "44     90.91\n",
       "45    102.76\n",
       "48     99.08\n",
       "53    151.28\n",
       "54    104.74\n",
       "64    102.16\n",
       "Name: 建物移轉總面積平方公尺, dtype: float64"
      ]
     },
     "execution_count": 414,
     "metadata": {},
     "output_type": "execute_result"
    }
   ],
   "source": [
    "df.建物移轉總面積平方公尺[0:10]"
   ]
  },
  {
   "cell_type": "code",
   "execution_count": 415,
   "metadata": {},
   "outputs": [
    {
     "data": {
      "text/plain": [
       "0     0701231\n",
       "35    0830530\n",
       "39    0000001\n",
       "43    0981126\n",
       "44    0710622\n",
       "45    0690515\n",
       "48    0690422\n",
       "53    0690324\n",
       "54    0691024\n",
       "64    0690428\n",
       "Name: 建築完成年月, dtype: object"
      ]
     },
     "execution_count": 415,
     "metadata": {},
     "output_type": "execute_result"
    }
   ],
   "source": [
    "df.建築完成年月[0:10]"
   ]
  },
  {
   "cell_type": "markdown",
   "metadata": {},
   "source": [
    "adjust\n",
    "\"\"\" \t建築完成年月 \t\n",
    "4150 \t0005807 \t\n",
    "12013 \t0005305 \t\n",
    "15153 \t8012500 \t\n",
    "\"\"\""
   ]
  },
  {
   "cell_type": "code",
   "execution_count": 416,
   "metadata": {},
   "outputs": [
    {
     "name": "stderr",
     "output_type": "stream",
     "text": [
      "D:\\Users\\Bojun_Zhang\\Anaconda3\\lib\\site-packages\\ipykernel_launcher.py:1: SettingWithCopyWarning: \n",
      "A value is trying to be set on a copy of a slice from a DataFrame\n",
      "\n",
      "See the caveats in the documentation: http://pandas.pydata.org/pandas-docs/stable/indexing.html#indexing-view-versus-copy\n",
      "  \"\"\"Entry point for launching an IPython kernel.\n"
     ]
    }
   ],
   "source": [
    "df['建築完成年月'][15153]='0800125'"
   ]
  },
  {
   "cell_type": "code",
   "execution_count": 417,
   "metadata": {},
   "outputs": [
    {
     "data": {
      "text/plain": [
       "Index(['Q', '主要建材', '主要用途', '交易年月日', '交易標的', '交易筆棟數', '備註', '單價元/平方公尺',\n",
       "       '單價元平方公尺', '土地區段位置/建物區段門牌', '土地區段位置建物區段門牌', '土地移轉總面積平方公尺', '建物型態',\n",
       "       '建物現況格局-廳', '建物現況格局-房', '建物現況格局-衛', '建物現況格局-隔間', '建物移轉總面積平方公尺',\n",
       "       '建築完成年月', '有無管理組織', '移轉層次', '編號', '總價元', '總樓層數', '車位移轉總面積平方公尺', '車位總價元',\n",
       "       '車位類別', '都市土地使用分區', '鄉鎮市區', '非都市土地使用分區', '非都市土地使用編定', 'year', 'month',\n",
       "       'day', '建物型態2', 'b_year', 'b_month', 'b_day', 'b_time', 'time', '屋齡',\n",
       "       '總樓層數2', '移轉層次_2', '移轉層次_3', '扣除車位建物移轉總面積平方公尺'],\n",
       "      dtype='object')"
      ]
     },
     "execution_count": 417,
     "metadata": {},
     "output_type": "execute_result"
    }
   ],
   "source": [
    "df.columns"
   ]
  },
  {
   "cell_type": "code",
   "execution_count": 418,
   "metadata": {},
   "outputs": [],
   "source": [
    "\n",
    "def fill_back_0(strin):\n",
    "    strin=int(strin)\n",
    "    #if type(strin)!=str:\n",
    "    if strin ==0: strin=1\n",
    "    if int(math.log10(strin))+1==3:\n",
    "        strin=strin*10000\n",
    "    elif int(math.log10(strin))+1==4:\n",
    "        strin=strin*100    \n",
    "    elif int(math.log10(strin))+1==5:\n",
    "        strin=strin*100\n",
    "    strin=str(strin).zfill(7)\n",
    "    return strin\n"
   ]
  },
  {
   "cell_type": "code",
   "execution_count": null,
   "metadata": {},
   "outputs": [],
   "source": []
  },
  {
   "cell_type": "code",
   "execution_count": null,
   "metadata": {},
   "outputs": [],
   "source": []
  },
  {
   "cell_type": "code",
   "execution_count": 419,
   "metadata": {},
   "outputs": [
    {
     "data": {
      "text/plain": [
       "0        0701\n",
       "35       0830\n",
       "39       0000\n",
       "43       0981\n",
       "44       0710\n",
       "45       0690\n",
       "48       0690\n",
       "53       0690\n",
       "54       0691\n",
       "64       0690\n",
       "69       0000\n",
       "70       0751\n",
       "84       1020\n",
       "85       0860\n",
       "87       0740\n",
       "90       0000\n",
       "96       0671\n",
       "101      0700\n",
       "108      0700\n",
       "111      1011\n",
       "112      0841\n",
       "113      0751\n",
       "116      0950\n",
       "117      0970\n",
       "120      0840\n",
       "122      0931\n",
       "123      0590\n",
       "124      0000\n",
       "127      0701\n",
       "128      0960\n",
       "         ... \n",
       "74561    1021\n",
       "74562    0670\n",
       "74572    0740\n",
       "74575    0681\n",
       "74576    0570\n",
       "74586    1061\n",
       "74588    0860\n",
       "74592    1011\n",
       "74594    0630\n",
       "74596    0990\n",
       "74603    0690\n",
       "74604    0000\n",
       "74606    0710\n",
       "74607    0890\n",
       "74611    0970\n",
       "74626    0970\n",
       "74629    0590\n",
       "74643    0690\n",
       "74645    0670\n",
       "74651    0780\n",
       "74653    0611\n",
       "74656    0610\n",
       "74663    0730\n",
       "74665    0590\n",
       "74669    0730\n",
       "74674    0830\n",
       "74678    0850\n",
       "74683    0900\n",
       "74691    1000\n",
       "74693    0991\n",
       "Name: 建築完成年月, Length: 20174, dtype: object"
      ]
     },
     "execution_count": 419,
     "metadata": {},
     "output_type": "execute_result"
    }
   ],
   "source": [
    "df['建築完成年月'].str[0:4]"
   ]
  },
  {
   "cell_type": "code",
   "execution_count": 420,
   "metadata": {},
   "outputs": [
    {
     "name": "stdout",
     "output_type": "stream",
     "text": [
      "unique col now: ['0701231' '0830530' '0000001' ... '0690321' '0590217' '0900629']\n"
     ]
    }
   ],
   "source": [
    "df = deal_special_dump_nan0(df,'建築完成年月')\n",
    "df['建築完成年月'] = df.建築完成年月.apply(fill_back_0)\n",
    "\n",
    "df['b_year'] = (df['建築完成年月'].str[:3].fillna(0).astype(int) + 1911).astype(str).str.zfill(4)\n",
    "#df['b_month'] = df['建築完成年月'].str[3:5].fillna(1).astype(int)\n",
    "df['b_month'] = df['建築完成年月'].str[3:5].fillna(1).astype(str).str.zfill(2)\n",
    "#df['b_day'] = df['建築完成年月'].str[5:].fillna(1).astype(int)\n",
    "df['b_month'].replace([0,\"00\",\"0\"],\"01\", inplace=True)\n",
    "df['b_day'] = df['建築完成年月'].str[5:].fillna(1).astype(str).str.zfill(2)\n",
    "df['b_day'].replace([0,\"00\",\"0\"],\"01\", inplace=True)\n",
    "df['b_time']=pd.to_datetime(dict(year=df.b_year, month=df.b_month, day=df.b_day))\n",
    "df['b_time'] =pd.to_datetime(df.b_time,format='%m-%d-%Y')"
   ]
  },
  {
   "cell_type": "code",
   "execution_count": 421,
   "metadata": {},
   "outputs": [
    {
     "data": {
      "text/html": [
       "<div>\n",
       "<style scoped>\n",
       "    .dataframe tbody tr th:only-of-type {\n",
       "        vertical-align: middle;\n",
       "    }\n",
       "\n",
       "    .dataframe tbody tr th {\n",
       "        vertical-align: top;\n",
       "    }\n",
       "\n",
       "    .dataframe thead th {\n",
       "        text-align: right;\n",
       "    }\n",
       "</style>\n",
       "<table border=\"1\" class=\"dataframe\">\n",
       "  <thead>\n",
       "    <tr style=\"text-align: right;\">\n",
       "      <th></th>\n",
       "      <th>Q</th>\n",
       "      <th>主要建材</th>\n",
       "      <th>主要用途</th>\n",
       "      <th>交易年月日</th>\n",
       "      <th>交易標的</th>\n",
       "      <th>交易筆棟數</th>\n",
       "      <th>備註</th>\n",
       "      <th>單價元/平方公尺</th>\n",
       "      <th>單價元平方公尺</th>\n",
       "      <th>土地區段位置/建物區段門牌</th>\n",
       "      <th>...</th>\n",
       "      <th>b_year</th>\n",
       "      <th>b_month</th>\n",
       "      <th>b_day</th>\n",
       "      <th>b_time</th>\n",
       "      <th>time</th>\n",
       "      <th>屋齡</th>\n",
       "      <th>總樓層數2</th>\n",
       "      <th>移轉層次_2</th>\n",
       "      <th>移轉層次_3</th>\n",
       "      <th>扣除車位建物移轉總面積平方公尺</th>\n",
       "    </tr>\n",
       "  </thead>\n",
       "  <tbody>\n",
       "  </tbody>\n",
       "</table>\n",
       "<p>0 rows × 45 columns</p>\n",
       "</div>"
      ],
      "text/plain": [
       "Empty DataFrame\n",
       "Columns: [Q, 主要建材, 主要用途, 交易年月日, 交易標的, 交易筆棟數, 備註, 單價元/平方公尺, 單價元平方公尺, 土地區段位置/建物區段門牌, 土地區段位置建物區段門牌, 土地移轉總面積平方公尺, 建物型態, 建物現況格局-廳, 建物現況格局-房, 建物現況格局-衛, 建物現況格局-隔間, 建物移轉總面積平方公尺, 建築完成年月, 有無管理組織, 移轉層次, 編號, 總價元, 總樓層數, 車位移轉總面積平方公尺, 車位總價元, 車位類別, 都市土地使用分區, 鄉鎮市區, 非都市土地使用分區, 非都市土地使用編定, year, month, day, 建物型態2, b_year, b_month, b_day, b_time, time, 屋齡, 總樓層數2, 移轉層次_2, 移轉層次_3, 扣除車位建物移轉總面積平方公尺]\n",
       "Index: []\n",
       "\n",
       "[0 rows x 45 columns]"
      ]
     },
     "execution_count": 421,
     "metadata": {},
     "output_type": "execute_result"
    }
   ],
   "source": [
    "df[df.index.duplicated()]"
   ]
  },
  {
   "cell_type": "code",
   "execution_count": 422,
   "metadata": {},
   "outputs": [
    {
     "data": {
      "text/html": [
       "<div>\n",
       "<style scoped>\n",
       "    .dataframe tbody tr th:only-of-type {\n",
       "        vertical-align: middle;\n",
       "    }\n",
       "\n",
       "    .dataframe tbody tr th {\n",
       "        vertical-align: top;\n",
       "    }\n",
       "\n",
       "    .dataframe thead th {\n",
       "        text-align: right;\n",
       "    }\n",
       "</style>\n",
       "<table border=\"1\" class=\"dataframe\">\n",
       "  <thead>\n",
       "    <tr style=\"text-align: right;\">\n",
       "      <th></th>\n",
       "      <th>建築完成年月</th>\n",
       "      <th>b_year</th>\n",
       "      <th>b_month</th>\n",
       "      <th>b_day</th>\n",
       "    </tr>\n",
       "  </thead>\n",
       "  <tbody>\n",
       "    <tr>\n",
       "      <th>0</th>\n",
       "      <td>0701231</td>\n",
       "      <td>1981</td>\n",
       "      <td>12</td>\n",
       "      <td>31</td>\n",
       "    </tr>\n",
       "    <tr>\n",
       "      <th>35</th>\n",
       "      <td>0830530</td>\n",
       "      <td>1994</td>\n",
       "      <td>05</td>\n",
       "      <td>30</td>\n",
       "    </tr>\n",
       "    <tr>\n",
       "      <th>39</th>\n",
       "      <td>0000001</td>\n",
       "      <td>1911</td>\n",
       "      <td>01</td>\n",
       "      <td>01</td>\n",
       "    </tr>\n",
       "    <tr>\n",
       "      <th>43</th>\n",
       "      <td>0981126</td>\n",
       "      <td>2009</td>\n",
       "      <td>11</td>\n",
       "      <td>26</td>\n",
       "    </tr>\n",
       "    <tr>\n",
       "      <th>44</th>\n",
       "      <td>0710622</td>\n",
       "      <td>1982</td>\n",
       "      <td>06</td>\n",
       "      <td>22</td>\n",
       "    </tr>\n",
       "    <tr>\n",
       "      <th>45</th>\n",
       "      <td>0690515</td>\n",
       "      <td>1980</td>\n",
       "      <td>05</td>\n",
       "      <td>15</td>\n",
       "    </tr>\n",
       "    <tr>\n",
       "      <th>48</th>\n",
       "      <td>0690422</td>\n",
       "      <td>1980</td>\n",
       "      <td>04</td>\n",
       "      <td>22</td>\n",
       "    </tr>\n",
       "    <tr>\n",
       "      <th>53</th>\n",
       "      <td>0690324</td>\n",
       "      <td>1980</td>\n",
       "      <td>03</td>\n",
       "      <td>24</td>\n",
       "    </tr>\n",
       "    <tr>\n",
       "      <th>54</th>\n",
       "      <td>0691024</td>\n",
       "      <td>1980</td>\n",
       "      <td>10</td>\n",
       "      <td>24</td>\n",
       "    </tr>\n",
       "    <tr>\n",
       "      <th>64</th>\n",
       "      <td>0690428</td>\n",
       "      <td>1980</td>\n",
       "      <td>04</td>\n",
       "      <td>28</td>\n",
       "    </tr>\n",
       "    <tr>\n",
       "      <th>69</th>\n",
       "      <td>0000001</td>\n",
       "      <td>1911</td>\n",
       "      <td>01</td>\n",
       "      <td>01</td>\n",
       "    </tr>\n",
       "    <tr>\n",
       "      <th>70</th>\n",
       "      <td>0751017</td>\n",
       "      <td>1986</td>\n",
       "      <td>10</td>\n",
       "      <td>17</td>\n",
       "    </tr>\n",
       "    <tr>\n",
       "      <th>84</th>\n",
       "      <td>1020403</td>\n",
       "      <td>2013</td>\n",
       "      <td>04</td>\n",
       "      <td>03</td>\n",
       "    </tr>\n",
       "    <tr>\n",
       "      <th>85</th>\n",
       "      <td>0860130</td>\n",
       "      <td>1997</td>\n",
       "      <td>01</td>\n",
       "      <td>30</td>\n",
       "    </tr>\n",
       "    <tr>\n",
       "      <th>87</th>\n",
       "      <td>0740522</td>\n",
       "      <td>1985</td>\n",
       "      <td>05</td>\n",
       "      <td>22</td>\n",
       "    </tr>\n",
       "    <tr>\n",
       "      <th>90</th>\n",
       "      <td>0000001</td>\n",
       "      <td>1911</td>\n",
       "      <td>01</td>\n",
       "      <td>01</td>\n",
       "    </tr>\n",
       "    <tr>\n",
       "      <th>96</th>\n",
       "      <td>0671201</td>\n",
       "      <td>1978</td>\n",
       "      <td>12</td>\n",
       "      <td>01</td>\n",
       "    </tr>\n",
       "    <tr>\n",
       "      <th>101</th>\n",
       "      <td>0700318</td>\n",
       "      <td>1981</td>\n",
       "      <td>03</td>\n",
       "      <td>18</td>\n",
       "    </tr>\n",
       "    <tr>\n",
       "      <th>108</th>\n",
       "      <td>0700331</td>\n",
       "      <td>1981</td>\n",
       "      <td>03</td>\n",
       "      <td>31</td>\n",
       "    </tr>\n",
       "    <tr>\n",
       "      <th>111</th>\n",
       "      <td>1011226</td>\n",
       "      <td>2012</td>\n",
       "      <td>12</td>\n",
       "      <td>26</td>\n",
       "    </tr>\n",
       "    <tr>\n",
       "      <th>112</th>\n",
       "      <td>0841204</td>\n",
       "      <td>1995</td>\n",
       "      <td>12</td>\n",
       "      <td>04</td>\n",
       "    </tr>\n",
       "    <tr>\n",
       "      <th>113</th>\n",
       "      <td>0751106</td>\n",
       "      <td>1986</td>\n",
       "      <td>11</td>\n",
       "      <td>06</td>\n",
       "    </tr>\n",
       "    <tr>\n",
       "      <th>116</th>\n",
       "      <td>0950209</td>\n",
       "      <td>2006</td>\n",
       "      <td>02</td>\n",
       "      <td>09</td>\n",
       "    </tr>\n",
       "    <tr>\n",
       "      <th>117</th>\n",
       "      <td>0970110</td>\n",
       "      <td>2008</td>\n",
       "      <td>01</td>\n",
       "      <td>10</td>\n",
       "    </tr>\n",
       "    <tr>\n",
       "      <th>120</th>\n",
       "      <td>0840411</td>\n",
       "      <td>1995</td>\n",
       "      <td>04</td>\n",
       "      <td>11</td>\n",
       "    </tr>\n",
       "    <tr>\n",
       "      <th>122</th>\n",
       "      <td>0931227</td>\n",
       "      <td>2004</td>\n",
       "      <td>12</td>\n",
       "      <td>27</td>\n",
       "    </tr>\n",
       "    <tr>\n",
       "      <th>123</th>\n",
       "      <td>0590630</td>\n",
       "      <td>1970</td>\n",
       "      <td>06</td>\n",
       "      <td>30</td>\n",
       "    </tr>\n",
       "    <tr>\n",
       "      <th>124</th>\n",
       "      <td>0000001</td>\n",
       "      <td>1911</td>\n",
       "      <td>01</td>\n",
       "      <td>01</td>\n",
       "    </tr>\n",
       "    <tr>\n",
       "      <th>127</th>\n",
       "      <td>0701021</td>\n",
       "      <td>1981</td>\n",
       "      <td>10</td>\n",
       "      <td>21</td>\n",
       "    </tr>\n",
       "    <tr>\n",
       "      <th>128</th>\n",
       "      <td>0960731</td>\n",
       "      <td>2007</td>\n",
       "      <td>07</td>\n",
       "      <td>31</td>\n",
       "    </tr>\n",
       "    <tr>\n",
       "      <th>...</th>\n",
       "      <td>...</td>\n",
       "      <td>...</td>\n",
       "      <td>...</td>\n",
       "      <td>...</td>\n",
       "    </tr>\n",
       "    <tr>\n",
       "      <th>74561</th>\n",
       "      <td>1021115</td>\n",
       "      <td>2013</td>\n",
       "      <td>11</td>\n",
       "      <td>15</td>\n",
       "    </tr>\n",
       "    <tr>\n",
       "      <th>74562</th>\n",
       "      <td>0670817</td>\n",
       "      <td>1978</td>\n",
       "      <td>08</td>\n",
       "      <td>17</td>\n",
       "    </tr>\n",
       "    <tr>\n",
       "      <th>74572</th>\n",
       "      <td>0740522</td>\n",
       "      <td>1985</td>\n",
       "      <td>05</td>\n",
       "      <td>22</td>\n",
       "    </tr>\n",
       "    <tr>\n",
       "      <th>74575</th>\n",
       "      <td>0681103</td>\n",
       "      <td>1979</td>\n",
       "      <td>11</td>\n",
       "      <td>03</td>\n",
       "    </tr>\n",
       "    <tr>\n",
       "      <th>74576</th>\n",
       "      <td>0570325</td>\n",
       "      <td>1968</td>\n",
       "      <td>03</td>\n",
       "      <td>25</td>\n",
       "    </tr>\n",
       "    <tr>\n",
       "      <th>74586</th>\n",
       "      <td>1061222</td>\n",
       "      <td>2017</td>\n",
       "      <td>12</td>\n",
       "      <td>22</td>\n",
       "    </tr>\n",
       "    <tr>\n",
       "      <th>74588</th>\n",
       "      <td>0860603</td>\n",
       "      <td>1997</td>\n",
       "      <td>06</td>\n",
       "      <td>03</td>\n",
       "    </tr>\n",
       "    <tr>\n",
       "      <th>74592</th>\n",
       "      <td>1011112</td>\n",
       "      <td>2012</td>\n",
       "      <td>11</td>\n",
       "      <td>12</td>\n",
       "    </tr>\n",
       "    <tr>\n",
       "      <th>74594</th>\n",
       "      <td>0630926</td>\n",
       "      <td>1974</td>\n",
       "      <td>09</td>\n",
       "      <td>26</td>\n",
       "    </tr>\n",
       "    <tr>\n",
       "      <th>74596</th>\n",
       "      <td>0990903</td>\n",
       "      <td>2010</td>\n",
       "      <td>09</td>\n",
       "      <td>03</td>\n",
       "    </tr>\n",
       "    <tr>\n",
       "      <th>74603</th>\n",
       "      <td>0690321</td>\n",
       "      <td>1980</td>\n",
       "      <td>03</td>\n",
       "      <td>21</td>\n",
       "    </tr>\n",
       "    <tr>\n",
       "      <th>74604</th>\n",
       "      <td>0000001</td>\n",
       "      <td>1911</td>\n",
       "      <td>01</td>\n",
       "      <td>01</td>\n",
       "    </tr>\n",
       "    <tr>\n",
       "      <th>74606</th>\n",
       "      <td>0710227</td>\n",
       "      <td>1982</td>\n",
       "      <td>02</td>\n",
       "      <td>27</td>\n",
       "    </tr>\n",
       "    <tr>\n",
       "      <th>74607</th>\n",
       "      <td>0890628</td>\n",
       "      <td>2000</td>\n",
       "      <td>06</td>\n",
       "      <td>28</td>\n",
       "    </tr>\n",
       "    <tr>\n",
       "      <th>74611</th>\n",
       "      <td>0970502</td>\n",
       "      <td>2008</td>\n",
       "      <td>05</td>\n",
       "      <td>02</td>\n",
       "    </tr>\n",
       "    <tr>\n",
       "      <th>74626</th>\n",
       "      <td>0970312</td>\n",
       "      <td>2008</td>\n",
       "      <td>03</td>\n",
       "      <td>12</td>\n",
       "    </tr>\n",
       "    <tr>\n",
       "      <th>74629</th>\n",
       "      <td>0590217</td>\n",
       "      <td>1970</td>\n",
       "      <td>02</td>\n",
       "      <td>17</td>\n",
       "    </tr>\n",
       "    <tr>\n",
       "      <th>74643</th>\n",
       "      <td>0690606</td>\n",
       "      <td>1980</td>\n",
       "      <td>06</td>\n",
       "      <td>06</td>\n",
       "    </tr>\n",
       "    <tr>\n",
       "      <th>74645</th>\n",
       "      <td>0670918</td>\n",
       "      <td>1978</td>\n",
       "      <td>09</td>\n",
       "      <td>18</td>\n",
       "    </tr>\n",
       "    <tr>\n",
       "      <th>74651</th>\n",
       "      <td>0780516</td>\n",
       "      <td>1989</td>\n",
       "      <td>05</td>\n",
       "      <td>16</td>\n",
       "    </tr>\n",
       "    <tr>\n",
       "      <th>74653</th>\n",
       "      <td>0611006</td>\n",
       "      <td>1972</td>\n",
       "      <td>10</td>\n",
       "      <td>06</td>\n",
       "    </tr>\n",
       "    <tr>\n",
       "      <th>74656</th>\n",
       "      <td>0610805</td>\n",
       "      <td>1972</td>\n",
       "      <td>08</td>\n",
       "      <td>05</td>\n",
       "    </tr>\n",
       "    <tr>\n",
       "      <th>74663</th>\n",
       "      <td>0730416</td>\n",
       "      <td>1984</td>\n",
       "      <td>04</td>\n",
       "      <td>16</td>\n",
       "    </tr>\n",
       "    <tr>\n",
       "      <th>74665</th>\n",
       "      <td>0590922</td>\n",
       "      <td>1970</td>\n",
       "      <td>09</td>\n",
       "      <td>22</td>\n",
       "    </tr>\n",
       "    <tr>\n",
       "      <th>74669</th>\n",
       "      <td>0730716</td>\n",
       "      <td>1984</td>\n",
       "      <td>07</td>\n",
       "      <td>16</td>\n",
       "    </tr>\n",
       "    <tr>\n",
       "      <th>74674</th>\n",
       "      <td>0830524</td>\n",
       "      <td>1994</td>\n",
       "      <td>05</td>\n",
       "      <td>24</td>\n",
       "    </tr>\n",
       "    <tr>\n",
       "      <th>74678</th>\n",
       "      <td>0850617</td>\n",
       "      <td>1996</td>\n",
       "      <td>06</td>\n",
       "      <td>17</td>\n",
       "    </tr>\n",
       "    <tr>\n",
       "      <th>74683</th>\n",
       "      <td>0900629</td>\n",
       "      <td>2001</td>\n",
       "      <td>06</td>\n",
       "      <td>29</td>\n",
       "    </tr>\n",
       "    <tr>\n",
       "      <th>74691</th>\n",
       "      <td>1000422</td>\n",
       "      <td>2011</td>\n",
       "      <td>04</td>\n",
       "      <td>22</td>\n",
       "    </tr>\n",
       "    <tr>\n",
       "      <th>74693</th>\n",
       "      <td>0991022</td>\n",
       "      <td>2010</td>\n",
       "      <td>10</td>\n",
       "      <td>22</td>\n",
       "    </tr>\n",
       "  </tbody>\n",
       "</table>\n",
       "<p>20174 rows × 4 columns</p>\n",
       "</div>"
      ],
      "text/plain": [
       "        建築完成年月 b_year b_month b_day\n",
       "0      0701231   1981      12    31\n",
       "35     0830530   1994      05    30\n",
       "39     0000001   1911      01    01\n",
       "43     0981126   2009      11    26\n",
       "44     0710622   1982      06    22\n",
       "45     0690515   1980      05    15\n",
       "48     0690422   1980      04    22\n",
       "53     0690324   1980      03    24\n",
       "54     0691024   1980      10    24\n",
       "64     0690428   1980      04    28\n",
       "69     0000001   1911      01    01\n",
       "70     0751017   1986      10    17\n",
       "84     1020403   2013      04    03\n",
       "85     0860130   1997      01    30\n",
       "87     0740522   1985      05    22\n",
       "90     0000001   1911      01    01\n",
       "96     0671201   1978      12    01\n",
       "101    0700318   1981      03    18\n",
       "108    0700331   1981      03    31\n",
       "111    1011226   2012      12    26\n",
       "112    0841204   1995      12    04\n",
       "113    0751106   1986      11    06\n",
       "116    0950209   2006      02    09\n",
       "117    0970110   2008      01    10\n",
       "120    0840411   1995      04    11\n",
       "122    0931227   2004      12    27\n",
       "123    0590630   1970      06    30\n",
       "124    0000001   1911      01    01\n",
       "127    0701021   1981      10    21\n",
       "128    0960731   2007      07    31\n",
       "...        ...    ...     ...   ...\n",
       "74561  1021115   2013      11    15\n",
       "74562  0670817   1978      08    17\n",
       "74572  0740522   1985      05    22\n",
       "74575  0681103   1979      11    03\n",
       "74576  0570325   1968      03    25\n",
       "74586  1061222   2017      12    22\n",
       "74588  0860603   1997      06    03\n",
       "74592  1011112   2012      11    12\n",
       "74594  0630926   1974      09    26\n",
       "74596  0990903   2010      09    03\n",
       "74603  0690321   1980      03    21\n",
       "74604  0000001   1911      01    01\n",
       "74606  0710227   1982      02    27\n",
       "74607  0890628   2000      06    28\n",
       "74611  0970502   2008      05    02\n",
       "74626  0970312   2008      03    12\n",
       "74629  0590217   1970      02    17\n",
       "74643  0690606   1980      06    06\n",
       "74645  0670918   1978      09    18\n",
       "74651  0780516   1989      05    16\n",
       "74653  0611006   1972      10    06\n",
       "74656  0610805   1972      08    05\n",
       "74663  0730416   1984      04    16\n",
       "74665  0590922   1970      09    22\n",
       "74669  0730716   1984      07    16\n",
       "74674  0830524   1994      05    24\n",
       "74678  0850617   1996      06    17\n",
       "74683  0900629   2001      06    29\n",
       "74691  1000422   2011      04    22\n",
       "74693  0991022   2010      10    22\n",
       "\n",
       "[20174 rows x 4 columns]"
      ]
     },
     "execution_count": 422,
     "metadata": {},
     "output_type": "execute_result"
    }
   ],
   "source": [
    "df[['建築完成年月','b_year','b_month','b_day']]"
   ]
  },
  {
   "cell_type": "code",
   "execution_count": 423,
   "metadata": {},
   "outputs": [],
   "source": [
    "#df['b_time'] =  df.b_month+\"-\"+df.b_day+\"-\"+df.b_year"
   ]
  },
  {
   "cell_type": "code",
   "execution_count": 424,
   "metadata": {},
   "outputs": [],
   "source": [
    "#df['b_time'][0:50]"
   ]
  },
  {
   "cell_type": "code",
   "execution_count": null,
   "metadata": {},
   "outputs": [],
   "source": []
  },
  {
   "cell_type": "code",
   "execution_count": 425,
   "metadata": {},
   "outputs": [
    {
     "name": "stdout",
     "output_type": "stream",
     "text": [
      "unique col now: ['1041005' '1040925' '1041020' ... '1080419' '1080501' '1080429']\n"
     ]
    }
   ],
   "source": [
    "df = deal_special_dump_nan0(df,'交易年月日')\n",
    "df['交易年月日'] = df.交易年月日.apply(fill_back_0)\n",
    "\n",
    "df['year'] = (df['交易年月日'].str[:3].fillna(0).astype(int) + 1911).astype(str).str.zfill(4)\n",
    "\n",
    "#check unnormal\n",
    "\"\"\"\n",
    "df['month'] = df['交易年月日'].str[3:5].fillna(1).astype(int)\n",
    "df['day'] = df['交易年月日'].str[5:].fillna(1).astype(int)\n",
    "df[df['month']>12]\n",
    "df[df['day']>31]\n",
    "\"\"\"\n",
    "#if no unnormal, run next\n",
    "\n",
    "\n",
    "df['month'] = df['交易年月日'].str[3:5].fillna(1).astype(str).str.zfill(2)\n",
    "df['month'].replace([0,\"00\",\"0\"],\"01\", inplace=True)\n",
    "df['day'] = df['交易年月日'].str[5:].fillna(1).astype(str).str.zfill(2)\n",
    "df['day'].replace([0,\"00\",\"0\"],\"01\", inplace=True)\n",
    "df['time']=pd.to_datetime(dict(year=df.year, month=df.month, day=df.day))\n",
    "df['time'] =pd.to_datetime(df.time,format='%m-%d-%Y')"
   ]
  },
  {
   "cell_type": "code",
   "execution_count": 426,
   "metadata": {},
   "outputs": [
    {
     "data": {
      "text/plain": [
       "0       2015-10-05\n",
       "35      2015-09-25\n",
       "39      2015-10-20\n",
       "43      2015-08-23\n",
       "44      2015-10-06\n",
       "45      2015-09-18\n",
       "48      2015-10-18\n",
       "53      2015-10-16\n",
       "54      2015-10-12\n",
       "64      2015-10-20\n",
       "69      2015-10-13\n",
       "70      2015-10-06\n",
       "84      2015-09-26\n",
       "85      2015-10-14\n",
       "87      2015-10-15\n",
       "90      2015-10-06\n",
       "96      2015-10-19\n",
       "101     2015-09-01\n",
       "108     2015-10-09\n",
       "111     2015-08-18\n",
       "112     2015-07-08\n",
       "113     2015-09-03\n",
       "116     2015-10-20\n",
       "117     2015-09-16\n",
       "120     2015-10-09\n",
       "122     2015-09-21\n",
       "123     2015-09-24\n",
       "124     2015-10-16\n",
       "127     2015-06-29\n",
       "128     2015-09-01\n",
       "           ...    \n",
       "74561   2019-03-21\n",
       "74562   2019-04-06\n",
       "74572   2019-04-10\n",
       "74575   2019-03-17\n",
       "74576   2019-03-30\n",
       "74586   2019-03-31\n",
       "74588   2019-03-06\n",
       "74592   2019-03-10\n",
       "74594   2019-03-31\n",
       "74596   2019-04-11\n",
       "74603   2019-04-22\n",
       "74604   2019-04-03\n",
       "74606   2019-03-04\n",
       "74607   2019-04-19\n",
       "74611   2019-04-02\n",
       "74626   2019-04-01\n",
       "74629   2019-03-29\n",
       "74643   2019-03-31\n",
       "74645   2019-04-18\n",
       "74651   2019-04-18\n",
       "74653   2019-04-17\n",
       "74656   2019-05-01\n",
       "74663   2019-03-23\n",
       "74665   2018-10-29\n",
       "74669   2019-04-12\n",
       "74674   2019-04-13\n",
       "74678   2019-04-08\n",
       "74683   2019-04-29\n",
       "74691   2019-04-10\n",
       "74693   2019-03-30\n",
       "Name: time, Length: 20174, dtype: datetime64[ns]"
      ]
     },
     "execution_count": 426,
     "metadata": {},
     "output_type": "execute_result"
    }
   ],
   "source": [
    "df['time']"
   ]
  },
  {
   "cell_type": "code",
   "execution_count": 427,
   "metadata": {},
   "outputs": [],
   "source": [
    "df['屋齡'] = df['time'] - df['b_time']"
   ]
  },
  {
   "cell_type": "code",
   "execution_count": 428,
   "metadata": {
    "scrolled": true
   },
   "outputs": [],
   "source": [
    "df['屋齡'] =df.屋齡/ np.timedelta64(1, 'Y')\n",
    "df['屋齡']= df['屋齡'].astype(int)"
   ]
  },
  {
   "cell_type": "code",
   "execution_count": 429,
   "metadata": {},
   "outputs": [],
   "source": [
    "df['屋齡'] = df['屋齡'].apply(lambda x:50 if x>50 else x)"
   ]
  },
  {
   "cell_type": "code",
   "execution_count": 430,
   "metadata": {},
   "outputs": [
    {
     "data": {
      "text/plain": [
       "0        33\n",
       "35       21\n",
       "39       50\n",
       "43        5\n",
       "44       33\n",
       "45       35\n",
       "48       35\n",
       "53       35\n",
       "54       34\n",
       "64       35\n",
       "69       50\n",
       "70       28\n",
       "84        2\n",
       "85       18\n",
       "87       30\n",
       "90       50\n",
       "96       36\n",
       "101      34\n",
       "108      34\n",
       "111       2\n",
       "112      19\n",
       "113      28\n",
       "116       9\n",
       "117       7\n",
       "120      20\n",
       "122      10\n",
       "123      45\n",
       "124      50\n",
       "127      33\n",
       "128       8\n",
       "         ..\n",
       "74561     5\n",
       "74562    40\n",
       "74572    33\n",
       "74575    39\n",
       "74576    50\n",
       "74586     1\n",
       "74588    21\n",
       "74592     6\n",
       "74594    44\n",
       "74596     8\n",
       "74603    39\n",
       "74604    50\n",
       "74606    37\n",
       "74607    18\n",
       "74611    10\n",
       "74626    11\n",
       "74629    49\n",
       "74643    38\n",
       "74645    40\n",
       "74651    29\n",
       "74653    46\n",
       "74656    46\n",
       "74663    34\n",
       "74665    48\n",
       "74669    34\n",
       "74674    24\n",
       "74678    22\n",
       "74683    17\n",
       "74691     7\n",
       "74693     8\n",
       "Name: 屋齡, Length: 20174, dtype: int64"
      ]
     },
     "execution_count": 430,
     "metadata": {},
     "output_type": "execute_result"
    }
   ],
   "source": [
    "df['屋齡']"
   ]
  },
  {
   "cell_type": "code",
   "execution_count": 431,
   "metadata": {},
   "outputs": [
    {
     "data": {
      "text/plain": [
       "array(['無', '有'], dtype=object)"
      ]
     },
     "execution_count": 431,
     "metadata": {},
     "output_type": "execute_result"
    }
   ],
   "source": [
    "df['有無管理組織'].unique()"
   ]
  },
  {
   "cell_type": "code",
   "execution_count": null,
   "metadata": {},
   "outputs": [],
   "source": []
  },
  {
   "cell_type": "code",
   "execution_count": null,
   "metadata": {},
   "outputs": [],
   "source": []
  },
  {
   "cell_type": "code",
   "execution_count": 432,
   "metadata": {},
   "outputs": [],
   "source": [
    "df[\"總樓層數2\"]=df[\"總樓層數\"].astype(str)"
   ]
  },
  {
   "cell_type": "code",
   "execution_count": 433,
   "metadata": {},
   "outputs": [],
   "source": [
    "#先轉總樓層數!"
   ]
  },
  {
   "cell_type": "code",
   "execution_count": null,
   "metadata": {},
   "outputs": [],
   "source": []
  },
  {
   "cell_type": "code",
   "execution_count": 434,
   "metadata": {},
   "outputs": [],
   "source": [
    "#-*- coding: cp936 -*-\n",
    "import re\n",
    "import string\n",
    "\n",
    "digit = {'ㄧ': 1,'一': 1 ,'壹': 1, '一': 1, '二': 2, '三': 3, '四': 4, '五': 5, '六': 6, '七': 7, '八': 8, '九': 9}\n",
    "\n",
    "def _chn_to_numeric(s):\n",
    "    num = 0\n",
    "    if s:\n",
    "        if s != s:\n",
    "            s=\"null\"\n",
    "        idx_q, idx_b, idx_s, idx_f = s.find('千'), s.find('百'), s.find('十'), s.find('層')\n",
    "        if idx_q != -1:\n",
    "            num += digit[s[idx_q - 1:idx_q]] * 1000\n",
    "        if idx_b != -1:\n",
    "            num += digit[s[idx_b - 1:idx_b]] * 100\n",
    "        if idx_s != -1:\n",
    "            # 十前忽略一的处理\n",
    "            #get 如果第一個沒有值就回傳第2個\n",
    "            num += digit.get(s[idx_s - 1:idx_s], 1) * 10\n",
    "        if idx_f != -1:\n",
    "            # 十前忽略一的处理\n",
    "            if s[idx_f - 1:idx_f]!=\"十\":\n",
    "                num += digit.get(s[idx_f - 1:idx_f], 1)\n",
    "        if num == 0:\n",
    "            num = 1\n",
    "        #if s[-1] in digit:\n",
    "        #    num += digit[s[-1]]\n",
    "    return num\n",
    "\n",
    "def trans(chn):\n",
    "    chn=str(chn)\n",
    "    chn = chn.replace('零', '')\n",
    "    idx_y, idx_w = chn.rfind('億'), chn.rfind('萬')\n",
    "    if idx_w < idx_y:\n",
    "        idx_w = -1\n",
    "    num_y, num_w = 100000000, 10000\n",
    "    if idx_y != -1 and idx_w != -1:\n",
    "        return trans(chn[:idx_y]) * num_y + _chn_to_numeric(chn[idx_y + 1:idx_w]) * num_w + _chn_to_numeric(chn[idx_w + 1:])\n",
    "    elif idx_y != -1:\n",
    "        return trans(chn[:idx_y]) * num_y + _chn_to_numeric(chn[idx_y + 1:])\n",
    "    elif idx_w != -1:\n",
    "        return _chn_to_numeric(chn[:idx_w]) * num_w + _chn_to_numeric(chn[idx_w + 1:])\n",
    "    return _chn_to_numeric(chn)"
   ]
  },
  {
   "cell_type": "code",
   "execution_count": 450,
   "metadata": {},
   "outputs": [],
   "source": [
    "df[\"總樓層數\"]=df[\"總樓層數\"].apply(trans)\n",
    "df[\"總樓層數\"]=df[\"總樓層數\"].astype(int)"
   ]
  },
  {
   "cell_type": "code",
   "execution_count": 451,
   "metadata": {},
   "outputs": [],
   "source": [
    "def foo(t_floor,all_floor):\n",
    "    if t_floor==\"全\":\n",
    "        return range(1,all_floor+1)\n",
    "    else:\n",
    "        return t_floor\n",
    "\n",
    "df['移轉層次'] = df.apply(lambda x: foo(x[\"移轉層次\"], x[\"總樓層數\"]), axis=1)"
   ]
  },
  {
   "cell_type": "code",
   "execution_count": 452,
   "metadata": {},
   "outputs": [
    {
     "data": {
      "text/plain": [
       "array([ 2,  6,  9,  7,  3,  4,  5,  1, 12, 10, 14, 11, 13,  8, 18, 19, 15,\n",
       "       16, 17, 24, 20, 23, 21, 33, 29, 26, 25, 27, 22, 28, 31],\n",
       "      dtype=int64)"
      ]
     },
     "execution_count": 452,
     "metadata": {},
     "output_type": "execute_result"
    }
   ],
   "source": [
    "df['移轉層次'].unique()"
   ]
  },
  {
   "cell_type": "code",
   "execution_count": 453,
   "metadata": {},
   "outputs": [
    {
     "ename": "AttributeError",
     "evalue": "Can only use .str accessor with string values, which use np.object_ dtype in pandas",
     "output_type": "error",
     "traceback": [
      "\u001b[1;31m---------------------------------------------------------------------------\u001b[0m",
      "\u001b[1;31mAttributeError\u001b[0m                            Traceback (most recent call last)",
      "\u001b[1;32m<ipython-input-453-0206a4963ba4>\u001b[0m in \u001b[0;36m<module>\u001b[1;34m()\u001b[0m\n\u001b[1;32m----> 1\u001b[1;33m \u001b[0mdf\u001b[0m\u001b[1;33m=\u001b[0m\u001b[0mdeal_negative_contain\u001b[0m\u001b[1;33m(\u001b[0m\u001b[0mdf\u001b[0m\u001b[1;33m,\u001b[0m\u001b[1;34m\"移轉層次\"\u001b[0m\u001b[1;33m,\u001b[0m\u001b[1;33m[\u001b[0m\u001b[1;34m'登記事項'\u001b[0m\u001b[1;33m,\u001b[0m \u001b[1;34m'，'\u001b[0m\u001b[1;33m,\u001b[0m\u001b[1;34m'地下'\u001b[0m\u001b[1;33m,\u001b[0m\u001b[1;34m'屋頂'\u001b[0m\u001b[1;33m]\u001b[0m\u001b[1;33m)\u001b[0m\u001b[1;33m\u001b[0m\u001b[0m\n\u001b[0m",
      "\u001b[1;32m<ipython-input-346-d3f2a9f3bf9f>\u001b[0m in \u001b[0;36mdeal_negative_contain\u001b[1;34m(df, col, specialcategory)\u001b[0m\n\u001b[0;32m     32\u001b[0m     \u001b[0mdf\u001b[0m\u001b[1;33m[\u001b[0m\u001b[0mcol\u001b[0m\u001b[1;33m]\u001b[0m\u001b[1;33m.\u001b[0m\u001b[0mreplace\u001b[0m\u001b[1;33m(\u001b[0m\u001b[0mpd\u001b[0m\u001b[1;33m.\u001b[0m\u001b[0mnp\u001b[0m\u001b[1;33m.\u001b[0m\u001b[0mnan\u001b[0m\u001b[1;33m,\u001b[0m\u001b[1;34m'NaN'\u001b[0m\u001b[1;33m,\u001b[0m\u001b[0minplace\u001b[0m\u001b[1;33m=\u001b[0m\u001b[1;32mTrue\u001b[0m\u001b[1;33m)\u001b[0m\u001b[1;33m\u001b[0m\u001b[0m\n\u001b[0;32m     33\u001b[0m     \u001b[0mspecialcategory\u001b[0m\u001b[1;33m.\u001b[0m\u001b[0mappend\u001b[0m\u001b[1;33m(\u001b[0m\u001b[1;34m'NaN'\u001b[0m\u001b[1;33m)\u001b[0m\u001b[1;33m\u001b[0m\u001b[0m\n\u001b[1;32m---> 34\u001b[1;33m     \u001b[0mdf\u001b[0m\u001b[1;33m=\u001b[0m\u001b[0mdf\u001b[0m\u001b[1;33m[\u001b[0m\u001b[1;33m~\u001b[0m\u001b[0mdf\u001b[0m\u001b[1;33m[\u001b[0m\u001b[0mcol\u001b[0m\u001b[1;33m]\u001b[0m\u001b[1;33m.\u001b[0m\u001b[0mstr\u001b[0m\u001b[1;33m.\u001b[0m\u001b[0mcontains\u001b[0m\u001b[1;33m(\u001b[0m\u001b[1;34m'|'\u001b[0m\u001b[1;33m.\u001b[0m\u001b[0mjoin\u001b[0m\u001b[1;33m(\u001b[0m\u001b[0mspecialcategory\u001b[0m\u001b[1;33m)\u001b[0m\u001b[1;33m)\u001b[0m\u001b[1;33m]\u001b[0m\u001b[1;33m\u001b[0m\u001b[0m\n\u001b[0m\u001b[0;32m     35\u001b[0m     \u001b[1;32mreturn\u001b[0m \u001b[0mdf\u001b[0m\u001b[1;33m\u001b[0m\u001b[0m\n",
      "\u001b[1;32mD:\\Users\\Bojun_Zhang\\Anaconda3\\lib\\site-packages\\pandas\\core\\generic.py\u001b[0m in \u001b[0;36m__getattr__\u001b[1;34m(self, name)\u001b[0m\n\u001b[0;32m   4366\u001b[0m         if (name in self._internal_names_set or name in self._metadata or\n\u001b[0;32m   4367\u001b[0m                 name in self._accessors):\n\u001b[1;32m-> 4368\u001b[1;33m             \u001b[1;32mreturn\u001b[0m \u001b[0mobject\u001b[0m\u001b[1;33m.\u001b[0m\u001b[0m__getattribute__\u001b[0m\u001b[1;33m(\u001b[0m\u001b[0mself\u001b[0m\u001b[1;33m,\u001b[0m \u001b[0mname\u001b[0m\u001b[1;33m)\u001b[0m\u001b[1;33m\u001b[0m\u001b[0m\n\u001b[0m\u001b[0;32m   4369\u001b[0m         \u001b[1;32melse\u001b[0m\u001b[1;33m:\u001b[0m\u001b[1;33m\u001b[0m\u001b[0m\n\u001b[0;32m   4370\u001b[0m             \u001b[1;32mif\u001b[0m \u001b[0mself\u001b[0m\u001b[1;33m.\u001b[0m\u001b[0m_info_axis\u001b[0m\u001b[1;33m.\u001b[0m\u001b[0m_can_hold_identifiers_and_holds_name\u001b[0m\u001b[1;33m(\u001b[0m\u001b[0mname\u001b[0m\u001b[1;33m)\u001b[0m\u001b[1;33m:\u001b[0m\u001b[1;33m\u001b[0m\u001b[0m\n",
      "\u001b[1;32mD:\\Users\\Bojun_Zhang\\Anaconda3\\lib\\site-packages\\pandas\\core\\accessor.py\u001b[0m in \u001b[0;36m__get__\u001b[1;34m(self, obj, cls)\u001b[0m\n\u001b[0;32m    130\u001b[0m             \u001b[1;31m# we're accessing the attribute of the class, i.e., Dataset.geo\u001b[0m\u001b[1;33m\u001b[0m\u001b[1;33m\u001b[0m\u001b[0m\n\u001b[0;32m    131\u001b[0m             \u001b[1;32mreturn\u001b[0m \u001b[0mself\u001b[0m\u001b[1;33m.\u001b[0m\u001b[0m_accessor\u001b[0m\u001b[1;33m\u001b[0m\u001b[0m\n\u001b[1;32m--> 132\u001b[1;33m         \u001b[0maccessor_obj\u001b[0m \u001b[1;33m=\u001b[0m \u001b[0mself\u001b[0m\u001b[1;33m.\u001b[0m\u001b[0m_accessor\u001b[0m\u001b[1;33m(\u001b[0m\u001b[0mobj\u001b[0m\u001b[1;33m)\u001b[0m\u001b[1;33m\u001b[0m\u001b[0m\n\u001b[0m\u001b[0;32m    133\u001b[0m         \u001b[1;31m# Replace the property with the accessor object. Inspired by:\u001b[0m\u001b[1;33m\u001b[0m\u001b[1;33m\u001b[0m\u001b[0m\n\u001b[0;32m    134\u001b[0m         \u001b[1;31m# http://www.pydanny.com/cached-property.html\u001b[0m\u001b[1;33m\u001b[0m\u001b[1;33m\u001b[0m\u001b[0m\n",
      "\u001b[1;32mD:\\Users\\Bojun_Zhang\\Anaconda3\\lib\\site-packages\\pandas\\core\\strings.py\u001b[0m in \u001b[0;36m__init__\u001b[1;34m(self, data)\u001b[0m\n\u001b[0;32m   1893\u001b[0m \u001b[1;33m\u001b[0m\u001b[0m\n\u001b[0;32m   1894\u001b[0m     \u001b[1;32mdef\u001b[0m \u001b[0m__init__\u001b[0m\u001b[1;33m(\u001b[0m\u001b[0mself\u001b[0m\u001b[1;33m,\u001b[0m \u001b[0mdata\u001b[0m\u001b[1;33m)\u001b[0m\u001b[1;33m:\u001b[0m\u001b[1;33m\u001b[0m\u001b[0m\n\u001b[1;32m-> 1895\u001b[1;33m         \u001b[0mself\u001b[0m\u001b[1;33m.\u001b[0m\u001b[0m_validate\u001b[0m\u001b[1;33m(\u001b[0m\u001b[0mdata\u001b[0m\u001b[1;33m)\u001b[0m\u001b[1;33m\u001b[0m\u001b[0m\n\u001b[0m\u001b[0;32m   1896\u001b[0m         \u001b[0mself\u001b[0m\u001b[1;33m.\u001b[0m\u001b[0m_is_categorical\u001b[0m \u001b[1;33m=\u001b[0m \u001b[0mis_categorical_dtype\u001b[0m\u001b[1;33m(\u001b[0m\u001b[0mdata\u001b[0m\u001b[1;33m)\u001b[0m\u001b[1;33m\u001b[0m\u001b[0m\n\u001b[0;32m   1897\u001b[0m \u001b[1;33m\u001b[0m\u001b[0m\n",
      "\u001b[1;32mD:\\Users\\Bojun_Zhang\\Anaconda3\\lib\\site-packages\\pandas\\core\\strings.py\u001b[0m in \u001b[0;36m_validate\u001b[1;34m(data)\u001b[0m\n\u001b[0;32m   1915\u001b[0m             \u001b[1;31m# (instead of test for object dtype), but that isn't practical for\u001b[0m\u001b[1;33m\u001b[0m\u001b[1;33m\u001b[0m\u001b[0m\n\u001b[0;32m   1916\u001b[0m             \u001b[1;31m# performance reasons until we have a str dtype (GH 9343)\u001b[0m\u001b[1;33m\u001b[0m\u001b[1;33m\u001b[0m\u001b[0m\n\u001b[1;32m-> 1917\u001b[1;33m             raise AttributeError(\"Can only use .str accessor with string \"\n\u001b[0m\u001b[0;32m   1918\u001b[0m                                  \u001b[1;34m\"values, which use np.object_ dtype in \"\u001b[0m\u001b[1;33m\u001b[0m\u001b[0m\n\u001b[0;32m   1919\u001b[0m                                  \"pandas\")\n",
      "\u001b[1;31mAttributeError\u001b[0m: Can only use .str accessor with string values, which use np.object_ dtype in pandas"
     ]
    }
   ],
   "source": [
    "df=deal_negative_contain(df,\"移轉層次\",['登記事項', '，','地下','屋頂'])"
   ]
  },
  {
   "cell_type": "code",
   "execution_count": 446,
   "metadata": {},
   "outputs": [
    {
     "data": {
      "text/plain": [
       "array(['二層', '六層', '九層', '七層', '三層', '四層', '五層', '一層', '十二層', '十層', '十四層',\n",
       "       '十一層', '十三層', '八層', '十八層', '十九層', '十五層', '十六層', '十七層', '二十四層',\n",
       "       '二十層', '二十三層', '二十一層', '三十三層', '二十九層', '二十六層', '二十五層', '夾層',\n",
       "       '二十七層', '二十二層', '二十八層', '三十一層'], dtype=object)"
      ]
     },
     "execution_count": 446,
     "metadata": {},
     "output_type": "execute_result"
    }
   ],
   "source": [
    "df['移轉層次'].unique()"
   ]
  },
  {
   "cell_type": "code",
   "execution_count": 447,
   "metadata": {},
   "outputs": [],
   "source": [
    "df[\"移轉層次\"]=df[\"移轉層次\"].apply(trans)"
   ]
  },
  {
   "cell_type": "code",
   "execution_count": 449,
   "metadata": {},
   "outputs": [],
   "source": [
    "df[\"移轉層次\"] = df[\"移轉層次\"].astype(int)"
   ]
  },
  {
   "cell_type": "code",
   "execution_count": 454,
   "metadata": {},
   "outputs": [
    {
     "data": {
      "text/plain": [
       "<bound method Series.unique of 0         NaN\n",
       "35       升降平面\n",
       "39        NaN\n",
       "43       坡道平面\n",
       "44        NaN\n",
       "45        NaN\n",
       "48        NaN\n",
       "53        NaN\n",
       "54        NaN\n",
       "64        NaN\n",
       "69        NaN\n",
       "70       坡道平面\n",
       "84       坡道平面\n",
       "85        NaN\n",
       "87        NaN\n",
       "90        NaN\n",
       "96        NaN\n",
       "101       NaN\n",
       "108      坡道平面\n",
       "111      坡道平面\n",
       "112      升降平面\n",
       "113       NaN\n",
       "116       NaN\n",
       "117      升降機械\n",
       "120       NaN\n",
       "122      坡道機械\n",
       "123       NaN\n",
       "124       NaN\n",
       "127       NaN\n",
       "128      坡道平面\n",
       "         ... \n",
       "74561    坡道平面\n",
       "74562     NaN\n",
       "74572     NaN\n",
       "74575     NaN\n",
       "74576     NaN\n",
       "74586     NaN\n",
       "74588     NaN\n",
       "74592    坡道機械\n",
       "74594     NaN\n",
       "74596    坡道平面\n",
       "74603     NaN\n",
       "74604     NaN\n",
       "74606     NaN\n",
       "74607     NaN\n",
       "74611    升降機械\n",
       "74626     NaN\n",
       "74629     NaN\n",
       "74643     NaN\n",
       "74645     NaN\n",
       "74651     NaN\n",
       "74653     NaN\n",
       "74656     NaN\n",
       "74663     NaN\n",
       "74665     NaN\n",
       "74669    坡道平面\n",
       "74674    坡道平面\n",
       "74678     NaN\n",
       "74683     NaN\n",
       "74691    升降平面\n",
       "74693    坡道平面\n",
       "Name: 車位類別, Length: 20174, dtype: object>"
      ]
     },
     "execution_count": 454,
     "metadata": {},
     "output_type": "execute_result"
    }
   ],
   "source": [
    "df.車位類別.unique"
   ]
  },
  {
   "cell_type": "code",
   "execution_count": 456,
   "metadata": {},
   "outputs": [],
   "source": [
    "df['車位類別'].replace(pd.np.nan,'無',inplace=True)"
   ]
  },
  {
   "cell_type": "code",
   "execution_count": 458,
   "metadata": {},
   "outputs": [
    {
     "data": {
      "text/plain": [
       "Index(['Q', '主要建材', '主要用途', '交易年月日', '交易標的', '交易筆棟數', '備註', '單價元/平方公尺',\n",
       "       '單價元平方公尺', '土地區段位置/建物區段門牌', '土地區段位置建物區段門牌', '土地移轉總面積平方公尺', '建物型態',\n",
       "       '建物現況格局-廳', '建物現況格局-房', '建物現況格局-衛', '建物現況格局-隔間', '建物移轉總面積平方公尺',\n",
       "       '建築完成年月', '有無管理組織', '移轉層次', '編號', '總價元', '總樓層數', '車位移轉總面積平方公尺', '車位總價元',\n",
       "       '車位類別', '都市土地使用分區', '鄉鎮市區', '非都市土地使用分區', '非都市土地使用編定', 'year', 'month',\n",
       "       'day', '建物型態2', 'b_year', 'b_month', 'b_day', 'b_time', 'time', '屋齡',\n",
       "       '總樓層數2', '移轉層次_2', '移轉層次_3', '扣除車位建物移轉總面積平方公尺'],\n",
       "      dtype='object')"
      ]
     },
     "execution_count": 458,
     "metadata": {},
     "output_type": "execute_result"
    }
   ],
   "source": [
    "df.columns"
   ]
  },
  {
   "cell_type": "code",
   "execution_count": 459,
   "metadata": {},
   "outputs": [],
   "source": [
    "df['建物移轉總面積平方公尺']=df['建物移轉總面積平方公尺'].astype(float)\n",
    "df['車位移轉總面積平方公尺']=df['車位移轉總面積平方公尺'].astype(float)"
   ]
  },
  {
   "cell_type": "code",
   "execution_count": 460,
   "metadata": {},
   "outputs": [],
   "source": [
    "df['扣除車位建物移轉總面積平方公尺'] = df['建物移轉總面積平方公尺'] - df['車位移轉總面積平方公尺']"
   ]
  },
  {
   "cell_type": "code",
   "execution_count": 461,
   "metadata": {},
   "outputs": [
    {
     "data": {
      "text/plain": [
       "0        107.40\n",
       "35       148.95\n",
       "39        46.08\n",
       "43       326.63\n",
       "44        90.91\n",
       "45       102.76\n",
       "48        99.08\n",
       "53       151.28\n",
       "54       104.74\n",
       "64       102.16\n",
       "69        29.48\n",
       "70       163.25\n",
       "84       230.01\n",
       "85        22.53\n",
       "87        86.80\n",
       "90        87.45\n",
       "96       105.84\n",
       "101      159.80\n",
       "108      144.74\n",
       "111      258.01\n",
       "112      163.85\n",
       "113      131.48\n",
       "116       46.06\n",
       "117      249.69\n",
       "120       76.81\n",
       "122      215.98\n",
       "123      104.81\n",
       "124      109.33\n",
       "127      116.07\n",
       "128      128.53\n",
       "          ...  \n",
       "74561    280.94\n",
       "74562     79.52\n",
       "74572     87.39\n",
       "74575    111.49\n",
       "74576     89.68\n",
       "74586     72.02\n",
       "74588     60.79\n",
       "74592    148.23\n",
       "74594     61.84\n",
       "74596    183.35\n",
       "74603    120.37\n",
       "74604    116.51\n",
       "74606     50.74\n",
       "74607    155.75\n",
       "74611     58.53\n",
       "74626     34.00\n",
       "74629    108.74\n",
       "74643     99.78\n",
       "74645     63.02\n",
       "74651     96.72\n",
       "74653    106.14\n",
       "74656     42.12\n",
       "74663    130.20\n",
       "74665     85.00\n",
       "74669    391.62\n",
       "74674     94.97\n",
       "74678     31.66\n",
       "74683     94.98\n",
       "74691    124.50\n",
       "74693    148.62\n",
       "Name: 扣除車位建物移轉總面積平方公尺, Length: 20174, dtype: float64"
      ]
     },
     "execution_count": 461,
     "metadata": {},
     "output_type": "execute_result"
    }
   ],
   "source": [
    "df['扣除車位建物移轉總面積平方公尺']"
   ]
  },
  {
   "cell_type": "code",
   "execution_count": 462,
   "metadata": {},
   "outputs": [],
   "source": [
    "df=df.drop(['編號'],axis=1)"
   ]
  },
  {
   "cell_type": "code",
   "execution_count": 463,
   "metadata": {},
   "outputs": [
    {
     "data": {
      "text/plain": [
       "0       0.00\n",
       "35      0.00\n",
       "39      0.00\n",
       "43      0.00\n",
       "44      0.00\n",
       "45      0.00\n",
       "48      0.00\n",
       "53      0.00\n",
       "54      0.00\n",
       "64      0.00\n",
       "69      0.00\n",
       "70     38.07\n",
       "84     70.28\n",
       "85      0.00\n",
       "87      0.00\n",
       "90      0.00\n",
       "96      0.00\n",
       "101     0.00\n",
       "108    41.98\n",
       "111    38.64\n",
       "112     0.00\n",
       "113     0.00\n",
       "116     0.00\n",
       "117    37.30\n",
       "120     0.00\n",
       "122    40.86\n",
       "123     0.00\n",
       "124     0.00\n",
       "127     0.00\n",
       "128     0.00\n",
       "129     0.00\n",
       "130    41.54\n",
       "137     0.00\n",
       "138     0.00\n",
       "147     0.00\n",
       "148     0.00\n",
       "154     0.00\n",
       "155     0.00\n",
       "160     0.00\n",
       "161     0.00\n",
       "162     0.00\n",
       "163     2.53\n",
       "164     0.00\n",
       "168     0.00\n",
       "169     0.00\n",
       "175    36.06\n",
       "228    16.27\n",
       "229    16.27\n",
       "231     0.00\n",
       "236     0.00\n",
       "Name: 車位移轉總面積平方公尺, dtype: float64"
      ]
     },
     "execution_count": 463,
     "metadata": {},
     "output_type": "execute_result"
    }
   ],
   "source": [
    "df.車位移轉總面積平方公尺[0:50]"
   ]
  },
  {
   "cell_type": "code",
   "execution_count": 464,
   "metadata": {},
   "outputs": [
    {
     "data": {
      "text/plain": [
       "Index(['Q', '主要建材', '主要用途', '交易年月日', '交易標的', '交易筆棟數', '備註', '單價元/平方公尺',\n",
       "       '單價元平方公尺', '土地區段位置/建物區段門牌', '土地區段位置建物區段門牌', '土地移轉總面積平方公尺', '建物型態',\n",
       "       '建物現況格局-廳', '建物現況格局-房', '建物現況格局-衛', '建物現況格局-隔間', '建物移轉總面積平方公尺',\n",
       "       '建築完成年月', '有無管理組織', '移轉層次', '總價元', '總樓層數', '車位移轉總面積平方公尺', '車位總價元',\n",
       "       '車位類別', '都市土地使用分區', '鄉鎮市區', '非都市土地使用分區', '非都市土地使用編定', 'year', 'month',\n",
       "       'day', '建物型態2', 'b_year', 'b_month', 'b_day', 'b_time', 'time', '屋齡',\n",
       "       '總樓層數2', '移轉層次_2', '移轉層次_3', '扣除車位建物移轉總面積平方公尺'],\n",
       "      dtype='object')"
      ]
     },
     "execution_count": 464,
     "metadata": {},
     "output_type": "execute_result"
    }
   ],
   "source": [
    "df.columns"
   ]
  },
  {
   "cell_type": "code",
   "execution_count": null,
   "metadata": {},
   "outputs": [],
   "source": []
  },
  {
   "cell_type": "code",
   "execution_count": null,
   "metadata": {},
   "outputs": [],
   "source": [
    "#圖表分析\n",
    "prices = {}\n",
    "for district in set(df['鄉鎮市區']):\n",
    "    cond = (\n",
    "        (df['主要用途'] == '住家用')\n",
    "        & (df['鄉鎮市區'] == district)\n",
    "        & (df['單價元平方公尺'] < df[\"單價元平方公尺\"].quantile(0.9))\n",
    "        & (df['單價元平方公尺'] > df[\"單價元平方公尺\"].quantile(0.1))\n",
    "        )\n",
    "    \n",
    "    groups = df[cond]['year']\n",
    "    \n",
    "    prices[district] = df[cond]['單價元平方公尺'].astype(float).groupby(groups).mean().loc[2012:]\n",
    "\n",
    "prices = pd.DataFrame(prices)\n",
    "prices.head()"
   ]
  },
  {
   "cell_type": "code",
   "execution_count": null,
   "metadata": {},
   "outputs": [],
   "source": []
  },
  {
   "cell_type": "code",
   "execution_count": null,
   "metadata": {},
   "outputs": [],
   "source": [
    "prices.plot()"
   ]
  },
  {
   "cell_type": "code",
   "execution_count": null,
   "metadata": {},
   "outputs": [],
   "source": [
    "prices.mean(axis=1).plot()"
   ]
  },
  {
   "cell_type": "code",
   "execution_count": null,
   "metadata": {},
   "outputs": [],
   "source": [
    "building_type_prices = {}\n",
    "for building_type in set(df['建物型態2']):\n",
    "    cond = (\n",
    "        (df['主要用途'] == '住家用')\n",
    "        & (df['單價元平方公尺'] < df[\"單價元平方公尺\"].quantile(0.8))\n",
    "        & (df['單價元平方公尺'] > df[\"單價元平方公尺\"].quantile(0.2))\n",
    "        & (df['建物型態2'] == building_type)\n",
    "        )\n",
    "    \n",
    "    building_type_prices[building_type] = df[cond]['單價元平方公尺'].groupby(df[cond]['year']).mean().loc[2012:]\n",
    "pd.DataFrame(building_type_prices)[['公寓', '住宅大樓', '套房', '華廈']].plot()"
   ]
  },
  {
   "cell_type": "code",
   "execution_count": null,
   "metadata": {},
   "outputs": [],
   "source": [
    "for district in set(df['鄉鎮市區']):\n",
    "  dfdistrict = df[df['鄉鎮市區'] == district]\n",
    "  dfdistrict['單價元平方公尺'][dfdistrict['單價元平方公尺'] < 1000000].hist(bins=100, alpha=0.7)\n",
    "\n",
    "plt.xlim(0, 1000000)"
   ]
  },
  {
   "cell_type": "code",
   "execution_count": null,
   "metadata": {},
   "outputs": [],
   "source": [
    "#以上參考https://www.finlab.tw/"
   ]
  },
  {
   "cell_type": "code",
   "execution_count": null,
   "metadata": {},
   "outputs": [],
   "source": []
  }
 ],
 "metadata": {
  "kernelspec": {
   "display_name": "Python 3",
   "language": "python",
   "name": "python3"
  },
  "language_info": {
   "codemirror_mode": {
    "name": "ipython",
    "version": 3
   },
   "file_extension": ".py",
   "mimetype": "text/x-python",
   "name": "python",
   "nbconvert_exporter": "python",
   "pygments_lexer": "ipython3",
   "version": "3.6.5"
  }
 },
 "nbformat": 4,
 "nbformat_minor": 2
}
